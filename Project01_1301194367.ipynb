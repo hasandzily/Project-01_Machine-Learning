{
 "cells": [
  {
   "cell_type": "markdown",
   "metadata": {},
   "source": [
    "# Tugas Besar Project 1 Pembelajaran Mesin\n",
    "\n",
    "Muhammad Hasan Syadzily\n",
    "1301194367 \n",
    "IF-43-04"
   ]
  },
  {
   "cell_type": "markdown",
   "metadata": {},
   "source": [
    "# Import Library"
   ]
  },
  {
   "cell_type": "code",
   "execution_count": 1,
   "metadata": {},
   "outputs": [],
   "source": [
    "import math\n",
    "import random\n",
    "import pickle\n",
    "import numpy as np\n",
    "import pandas as pd\n",
    "import matplotlib.cm as cm\n",
    "import matplotlib.pyplot as plt\n",
    "from urllib.request import urlopen\n",
    "from sklearn.preprocessing import MinMaxScaler\n",
    "from sklearn.metrics import silhouette_score, silhouette_samples"
   ]
  },
  {
   "cell_type": "markdown",
   "metadata": {},
   "source": [
    "# Import Data"
   ]
  },
  {
   "cell_type": "code",
   "execution_count": 2,
   "metadata": {},
   "outputs": [
    {
     "data": {
      "text/html": [
       "<div>\n",
       "<style scoped>\n",
       "    .dataframe tbody tr th:only-of-type {\n",
       "        vertical-align: middle;\n",
       "    }\n",
       "\n",
       "    .dataframe tbody tr th {\n",
       "        vertical-align: top;\n",
       "    }\n",
       "\n",
       "    .dataframe thead th {\n",
       "        text-align: right;\n",
       "    }\n",
       "</style>\n",
       "<table border=\"1\" class=\"dataframe\">\n",
       "  <thead>\n",
       "    <tr style=\"text-align: right;\">\n",
       "      <th></th>\n",
       "      <th>id</th>\n",
       "      <th>Jenis_Kelamin</th>\n",
       "      <th>Umur</th>\n",
       "      <th>SIM</th>\n",
       "      <th>Kode_Daerah</th>\n",
       "      <th>Sudah_Asuransi</th>\n",
       "      <th>Umur_Kendaraan</th>\n",
       "      <th>Kendaraan_Rusak</th>\n",
       "      <th>Premi</th>\n",
       "      <th>Kanal_Penjualan</th>\n",
       "      <th>Lama_Berlangganan</th>\n",
       "      <th>Tertarik</th>\n",
       "    </tr>\n",
       "  </thead>\n",
       "  <tbody>\n",
       "    <tr>\n",
       "      <th>0</th>\n",
       "      <td>1</td>\n",
       "      <td>Wanita</td>\n",
       "      <td>30.0</td>\n",
       "      <td>1.0</td>\n",
       "      <td>33.0</td>\n",
       "      <td>1.0</td>\n",
       "      <td>&lt; 1 Tahun</td>\n",
       "      <td>Tidak</td>\n",
       "      <td>28029.0</td>\n",
       "      <td>152.0</td>\n",
       "      <td>97.0</td>\n",
       "      <td>0</td>\n",
       "    </tr>\n",
       "    <tr>\n",
       "      <th>1</th>\n",
       "      <td>2</td>\n",
       "      <td>Pria</td>\n",
       "      <td>48.0</td>\n",
       "      <td>1.0</td>\n",
       "      <td>39.0</td>\n",
       "      <td>0.0</td>\n",
       "      <td>&gt; 2 Tahun</td>\n",
       "      <td>Pernah</td>\n",
       "      <td>25800.0</td>\n",
       "      <td>29.0</td>\n",
       "      <td>158.0</td>\n",
       "      <td>0</td>\n",
       "    </tr>\n",
       "    <tr>\n",
       "      <th>2</th>\n",
       "      <td>3</td>\n",
       "      <td>NaN</td>\n",
       "      <td>21.0</td>\n",
       "      <td>1.0</td>\n",
       "      <td>46.0</td>\n",
       "      <td>1.0</td>\n",
       "      <td>&lt; 1 Tahun</td>\n",
       "      <td>Tidak</td>\n",
       "      <td>32733.0</td>\n",
       "      <td>160.0</td>\n",
       "      <td>119.0</td>\n",
       "      <td>0</td>\n",
       "    </tr>\n",
       "    <tr>\n",
       "      <th>3</th>\n",
       "      <td>4</td>\n",
       "      <td>Wanita</td>\n",
       "      <td>58.0</td>\n",
       "      <td>1.0</td>\n",
       "      <td>48.0</td>\n",
       "      <td>0.0</td>\n",
       "      <td>1-2 Tahun</td>\n",
       "      <td>Tidak</td>\n",
       "      <td>2630.0</td>\n",
       "      <td>124.0</td>\n",
       "      <td>63.0</td>\n",
       "      <td>0</td>\n",
       "    </tr>\n",
       "    <tr>\n",
       "      <th>4</th>\n",
       "      <td>5</td>\n",
       "      <td>Pria</td>\n",
       "      <td>50.0</td>\n",
       "      <td>1.0</td>\n",
       "      <td>35.0</td>\n",
       "      <td>0.0</td>\n",
       "      <td>&gt; 2 Tahun</td>\n",
       "      <td>NaN</td>\n",
       "      <td>34857.0</td>\n",
       "      <td>88.0</td>\n",
       "      <td>194.0</td>\n",
       "      <td>0</td>\n",
       "    </tr>\n",
       "  </tbody>\n",
       "</table>\n",
       "</div>"
      ],
      "text/plain": [
       "   id Jenis_Kelamin  Umur  SIM  Kode_Daerah  Sudah_Asuransi Umur_Kendaraan  \\\n",
       "0   1        Wanita  30.0  1.0         33.0             1.0      < 1 Tahun   \n",
       "1   2          Pria  48.0  1.0         39.0             0.0      > 2 Tahun   \n",
       "2   3           NaN  21.0  1.0         46.0             1.0      < 1 Tahun   \n",
       "3   4        Wanita  58.0  1.0         48.0             0.0      1-2 Tahun   \n",
       "4   5          Pria  50.0  1.0         35.0             0.0      > 2 Tahun   \n",
       "\n",
       "  Kendaraan_Rusak    Premi  Kanal_Penjualan  Lama_Berlangganan  Tertarik  \n",
       "0           Tidak  28029.0            152.0               97.0         0  \n",
       "1          Pernah  25800.0             29.0              158.0         0  \n",
       "2           Tidak  32733.0            160.0              119.0         0  \n",
       "3           Tidak   2630.0            124.0               63.0         0  \n",
       "4             NaN  34857.0             88.0              194.0         0  "
      ]
     },
     "execution_count": 2,
     "metadata": {},
     "output_type": "execute_result"
    }
   ],
   "source": [
    "df_raw = pd.read_csv(\"https://raw.githubusercontent.com/hasandzily/Project-01_Machine-Learning/main/Dataset/kendaraan_train.csv\")\n",
    "df_raw.head()"
   ]
  },
  {
   "cell_type": "markdown",
   "metadata": {},
   "source": [
    "# Eksplorasi dan Persiapan Data"
   ]
  },
  {
   "cell_type": "code",
   "execution_count": 4,
   "metadata": {},
   "outputs": [
    {
     "data": {
      "text/html": [
       "<div>\n",
       "<style scoped>\n",
       "    .dataframe tbody tr th:only-of-type {\n",
       "        vertical-align: middle;\n",
       "    }\n",
       "\n",
       "    .dataframe tbody tr th {\n",
       "        vertical-align: top;\n",
       "    }\n",
       "\n",
       "    .dataframe thead th {\n",
       "        text-align: right;\n",
       "    }\n",
       "</style>\n",
       "<table border=\"1\" class=\"dataframe\">\n",
       "  <thead>\n",
       "    <tr style=\"text-align: right;\">\n",
       "      <th></th>\n",
       "      <th>id</th>\n",
       "      <th>Umur</th>\n",
       "      <th>Kode_Daerah</th>\n",
       "      <th>Premi</th>\n",
       "      <th>Kanal_Penjualan</th>\n",
       "      <th>Lama_Berlangganan</th>\n",
       "      <th>Tertarik</th>\n",
       "    </tr>\n",
       "  </thead>\n",
       "  <tbody>\n",
       "    <tr>\n",
       "      <th>107651</th>\n",
       "      <td>107652</td>\n",
       "      <td>64.0</td>\n",
       "      <td>3.0</td>\n",
       "      <td>22922.0</td>\n",
       "      <td>124.0</td>\n",
       "      <td>32.0</td>\n",
       "      <td>0</td>\n",
       "    </tr>\n",
       "    <tr>\n",
       "      <th>171452</th>\n",
       "      <td>171453</td>\n",
       "      <td>23.0</td>\n",
       "      <td>41.0</td>\n",
       "      <td>35929.0</td>\n",
       "      <td>152.0</td>\n",
       "      <td>173.0</td>\n",
       "      <td>0</td>\n",
       "    </tr>\n",
       "    <tr>\n",
       "      <th>43529</th>\n",
       "      <td>43530</td>\n",
       "      <td>22.0</td>\n",
       "      <td>25.0</td>\n",
       "      <td>36559.0</td>\n",
       "      <td>152.0</td>\n",
       "      <td>112.0</td>\n",
       "      <td>0</td>\n",
       "    </tr>\n",
       "    <tr>\n",
       "      <th>264283</th>\n",
       "      <td>264284</td>\n",
       "      <td>60.0</td>\n",
       "      <td>45.0</td>\n",
       "      <td>25737.0</td>\n",
       "      <td>124.0</td>\n",
       "      <td>42.0</td>\n",
       "      <td>0</td>\n",
       "    </tr>\n",
       "    <tr>\n",
       "      <th>17827</th>\n",
       "      <td>17828</td>\n",
       "      <td>30.0</td>\n",
       "      <td>29.0</td>\n",
       "      <td>31149.0</td>\n",
       "      <td>26.0</td>\n",
       "      <td>64.0</td>\n",
       "      <td>1</td>\n",
       "    </tr>\n",
       "    <tr>\n",
       "      <th>94109</th>\n",
       "      <td>94110</td>\n",
       "      <td>52.0</td>\n",
       "      <td>28.0</td>\n",
       "      <td>36532.0</td>\n",
       "      <td>26.0</td>\n",
       "      <td>93.0</td>\n",
       "      <td>0</td>\n",
       "    </tr>\n",
       "    <tr>\n",
       "      <th>206929</th>\n",
       "      <td>206930</td>\n",
       "      <td>63.0</td>\n",
       "      <td>28.0</td>\n",
       "      <td>33056.0</td>\n",
       "      <td>155.0</td>\n",
       "      <td>172.0</td>\n",
       "      <td>0</td>\n",
       "    </tr>\n",
       "  </tbody>\n",
       "</table>\n",
       "</div>"
      ],
      "text/plain": [
       "            id  Umur  Kode_Daerah    Premi  Kanal_Penjualan  \\\n",
       "107651  107652  64.0          3.0  22922.0            124.0   \n",
       "171452  171453  23.0         41.0  35929.0            152.0   \n",
       "43529    43530  22.0         25.0  36559.0            152.0   \n",
       "264283  264284  60.0         45.0  25737.0            124.0   \n",
       "17827    17828  30.0         29.0  31149.0             26.0   \n",
       "94109    94110  52.0         28.0  36532.0             26.0   \n",
       "206929  206930  63.0         28.0  33056.0            155.0   \n",
       "\n",
       "        Lama_Berlangganan  Tertarik  \n",
       "107651               32.0         0  \n",
       "171452              173.0         0  \n",
       "43529               112.0         0  \n",
       "264283               42.0         0  \n",
       "17827                64.0         1  \n",
       "94109                93.0         0  \n",
       "206929              172.0         0  "
      ]
     },
     "execution_count": 4,
     "metadata": {},
     "output_type": "execute_result"
    }
   ],
   "source": [
    "# Drop Data Jenis Kelamin, SIM, Sudah Asuransi, Umur Kendaraan, dan Kendaraan Rusak\n",
    "df_dropna = df_raw.dropna(how=\"any\")\n",
    "len(df_dropna)\n",
    "df_dropna_dropcategorical = df_dropna.drop(axis=1, columns=[\"Jenis_Kelamin\", \"SIM\", \"Sudah_Asuransi\", \"Umur_Kendaraan\", \"Kendaraan_Rusak\"])\n",
    "df_dropna_dropcategorical.sample(7)"
   ]
  },
  {
   "cell_type": "markdown",
   "metadata": {},
   "source": [
    "# Pengecekan Outlier"
   ]
  },
  {
   "cell_type": "code",
   "execution_count": 6,
   "metadata": {},
   "outputs": [
    {
     "data": {
      "text/plain": [
       "Text(0.5, 1.0, 'Kanal_Penjualan')"
      ]
     },
     "execution_count": 6,
     "metadata": {},
     "output_type": "execute_result"
    },
    {
     "data": {
      "image/png": "[encoded data removed]",
      "text/plain": [
       "<Figure size 1080x360 with 5 Axes>"
      ]
     },
     "metadata": {
      "needs_background": "light"
     },
     "output_type": "display_data"
    }
   ],
   "source": [
    "fig, (g1, g2, g3, g4, g5) = plt.subplots(1,5)\n",
    "fig.suptitle(\"Box Plot masing-masing atribut\")\n",
    "fig.set_size_inches(15,5)\n",
    "g1.boxplot(df_dropna_dropcategorical[\"Umur\"])\n",
    "g1.set_title(\"Umur\")\n",
    "g2.boxplot(df_dropna_dropcategorical[\"Lama_Berlangganan\"])\n",
    "g2.set_title(\"Lama_Berlangganan\")\n",
    "g3.boxplot(df_dropna_dropcategorical[\"Premi\"])\n",
    "g3.set_title(\"Premi\")\n",
    "g4.boxplot(df_dropna_dropcategorical[\"Kode_Daerah\"])\n",
    "g4.set_title(\"Kode_Daerah\")\n",
    "g5.boxplot(df_dropna_dropcategorical[\"Kanal_Penjualan\"])\n",
    "g5.set_title(\"Kanal_Penjualan\")"
   ]
  },
  {
   "cell_type": "markdown",
   "metadata": {},
   "source": [
    "# Men-Drop Outlier Menggunakan Metode IQR"
   ]
  },
  {
   "cell_type": "code",
   "execution_count": 7,
   "metadata": {},
   "outputs": [
    {
     "data": {
      "text/plain": [
       "Text(0.5, 1.0, 'Kanal_Penjualan')"
      ]
     },
     "execution_count": 7,
     "metadata": {},
     "output_type": "execute_result"
    },
    {
     "data": {
      "image/png": "[encoded data removed]",
      "text/plain": [
       "<Figure size 1080x360 with 5 Axes>"
      ]
     },
     "metadata": {
      "needs_background": "light"
     },
     "output_type": "display_data"
    }
   ],
   "source": [
    "describe = df_dropna_dropcategorical.describe()\n",
    "describe\n",
    "iqr_premi = float(describe[\"Premi\"].loc[\"75%\"] - describe[\"Premi\"].loc[\"25%\"])\n",
    "q1_bound = float(describe[\"Premi\"].loc[\"25%\"]) - (iqr_premi * 1.5)\n",
    "q2_bound = float(describe[\"Premi\"].loc[\"75%\"]) + (iqr_premi * 1.5)\n",
    "final_df = df_dropna_dropcategorical.copy()\n",
    "final_df.reset_index(drop=True, inplace=True)\n",
    "final_df = final_df[(final_df[\"Premi\"] > q1_bound) & (final_df[\"Premi\"] < q2_bound)]\n",
    "len(final_df)\n",
    "fig, (g1, g2, g3, g4, g5) = plt.subplots(1,5)\n",
    "fig.suptitle(\"Box Plot masing-masing atribut\")\n",
    "fig.set_size_inches(15,5)\n",
    "g1.boxplot(final_df[\"Umur\"])\n",
    "g1.set_title(\"Umur\")\n",
    "g2.boxplot(final_df[\"Lama_Berlangganan\"])\n",
    "g2.set_title(\"Lama_Berlangganan\")\n",
    "g3.boxplot(final_df[\"Premi\"])\n",
    "g3.set_title(\"Premi\")\n",
    "g4.boxplot(final_df[\"Kode_Daerah\"])\n",
    "g4.set_title(\"Kode_Daerah\")\n",
    "g5.boxplot(final_df[\"Kanal_Penjualan\"])\n",
    "g5.set_title(\"Kanal_Penjualan\")"
   ]
  },
  {
   "cell_type": "markdown",
   "metadata": {},
   "source": [
    "# Pengecekan Korelasi"
   ]
  },
  {
   "cell_type": "code",
   "execution_count": 8,
   "metadata": {},
   "outputs": [
    {
     "data": {
      "image/png": "[encoded data removed]",
      "text/plain": [
       "<Figure size 288x288 with 1 Axes>"
      ]
     },
     "metadata": {
      "needs_background": "light"
     },
     "output_type": "display_data"
    }
   ],
   "source": [
    "plt.matshow(final_df.corr())\n",
    "plt.show()"
   ]
  },
  {
   "cell_type": "code",
   "execution_count": 9,
   "metadata": {},
   "outputs": [
    {
     "data": {
      "text/html": [
       "<div>\n",
       "<style scoped>\n",
       "    .dataframe tbody tr th:only-of-type {\n",
       "        vertical-align: middle;\n",
       "    }\n",
       "\n",
       "    .dataframe tbody tr th {\n",
       "        vertical-align: top;\n",
       "    }\n",
       "\n",
       "    .dataframe thead th {\n",
       "        text-align: right;\n",
       "    }\n",
       "</style>\n",
       "<table border=\"1\" class=\"dataframe\">\n",
       "  <thead>\n",
       "    <tr style=\"text-align: right;\">\n",
       "      <th></th>\n",
       "      <th>id</th>\n",
       "      <th>Umur</th>\n",
       "      <th>Kode_Daerah</th>\n",
       "      <th>Premi</th>\n",
       "      <th>Kanal_Penjualan</th>\n",
       "      <th>Lama_Berlangganan</th>\n",
       "      <th>Tertarik</th>\n",
       "    </tr>\n",
       "  </thead>\n",
       "  <tbody>\n",
       "    <tr>\n",
       "      <th>id</th>\n",
       "      <td>1.000000</td>\n",
       "      <td>0.002691</td>\n",
       "      <td>0.000597</td>\n",
       "      <td>0.002643</td>\n",
       "      <td>-0.001621</td>\n",
       "      <td>0.001875</td>\n",
       "      <td>0.000203</td>\n",
       "    </tr>\n",
       "    <tr>\n",
       "      <th>Umur</th>\n",
       "      <td>0.002691</td>\n",
       "      <td>1.000000</td>\n",
       "      <td>0.044503</td>\n",
       "      <td>0.046519</td>\n",
       "      <td>-0.574807</td>\n",
       "      <td>-0.001055</td>\n",
       "      <td>0.108781</td>\n",
       "    </tr>\n",
       "    <tr>\n",
       "      <th>Kode_Daerah</th>\n",
       "      <td>0.000597</td>\n",
       "      <td>0.044503</td>\n",
       "      <td>1.000000</td>\n",
       "      <td>-0.004068</td>\n",
       "      <td>-0.044871</td>\n",
       "      <td>-0.003771</td>\n",
       "      <td>0.010484</td>\n",
       "    </tr>\n",
       "    <tr>\n",
       "      <th>Premi</th>\n",
       "      <td>0.002643</td>\n",
       "      <td>0.046519</td>\n",
       "      <td>-0.004068</td>\n",
       "      <td>1.000000</td>\n",
       "      <td>-0.105819</td>\n",
       "      <td>0.001831</td>\n",
       "      <td>0.019686</td>\n",
       "    </tr>\n",
       "    <tr>\n",
       "      <th>Kanal_Penjualan</th>\n",
       "      <td>-0.001621</td>\n",
       "      <td>-0.574807</td>\n",
       "      <td>-0.044871</td>\n",
       "      <td>-0.105819</td>\n",
       "      <td>1.000000</td>\n",
       "      <td>0.000017</td>\n",
       "      <td>-0.139186</td>\n",
       "    </tr>\n",
       "    <tr>\n",
       "      <th>Lama_Berlangganan</th>\n",
       "      <td>0.001875</td>\n",
       "      <td>-0.001055</td>\n",
       "      <td>-0.003771</td>\n",
       "      <td>0.001831</td>\n",
       "      <td>0.000017</td>\n",
       "      <td>1.000000</td>\n",
       "      <td>0.001819</td>\n",
       "    </tr>\n",
       "    <tr>\n",
       "      <th>Tertarik</th>\n",
       "      <td>0.000203</td>\n",
       "      <td>0.108781</td>\n",
       "      <td>0.010484</td>\n",
       "      <td>0.019686</td>\n",
       "      <td>-0.139186</td>\n",
       "      <td>0.001819</td>\n",
       "      <td>1.000000</td>\n",
       "    </tr>\n",
       "  </tbody>\n",
       "</table>\n",
       "</div>"
      ],
      "text/plain": [
       "                         id      Umur  Kode_Daerah     Premi  Kanal_Penjualan  \\\n",
       "id                 1.000000  0.002691     0.000597  0.002643        -0.001621   \n",
       "Umur               0.002691  1.000000     0.044503  0.046519        -0.574807   \n",
       "Kode_Daerah        0.000597  0.044503     1.000000 -0.004068        -0.044871   \n",
       "Premi              0.002643  0.046519    -0.004068  1.000000        -0.105819   \n",
       "Kanal_Penjualan   -0.001621 -0.574807    -0.044871 -0.105819         1.000000   \n",
       "Lama_Berlangganan  0.001875 -0.001055    -0.003771  0.001831         0.000017   \n",
       "Tertarik           0.000203  0.108781     0.010484  0.019686        -0.139186   \n",
       "\n",
       "                   Lama_Berlangganan  Tertarik  \n",
       "id                          0.001875  0.000203  \n",
       "Umur                       -0.001055  0.108781  \n",
       "Kode_Daerah                -0.003771  0.010484  \n",
       "Premi                       0.001831  0.019686  \n",
       "Kanal_Penjualan             0.000017 -0.139186  \n",
       "Lama_Berlangganan           1.000000  0.001819  \n",
       "Tertarik                    0.001819  1.000000  "
      ]
     },
     "execution_count": 9,
     "metadata": {},
     "output_type": "execute_result"
    }
   ],
   "source": [
    "final_df.corr()"
   ]
  },
  {
   "cell_type": "markdown",
   "metadata": {},
   "source": [
    "# Pemodelan Data"
   ]
  },
  {
   "cell_type": "code",
   "execution_count": 10,
   "metadata": {},
   "outputs": [],
   "source": [
    "# Muhammad Hasan Syadzily\n",
    "# 1301194367\n",
    "\n",
    "class KMeans:\n",
    "\n",
    "  point = None\n",
    "  inersia = None\n",
    "  training = None\n",
    "  \n",
    "  def __init__(self, df: pd.DataFrame):\n",
    "    # Kelas ini digunakan untuk menyiapkan dataframe yang akan ditraining. Pastikan kolom bernama id atau sejenis sudah di drop tidak termasuk ke dalam dataframe.\n",
    "    print(\"K-Means akan ditentukan oleh atribut-atribut di bawah ini:\")\n",
    "    print(\"[\", end=\"\")\n",
    "    for i in range(len(df.columns)):\n",
    "      print(df.columns[i] + \" \", end=\"\")\n",
    "    print(\"]\", end=\"\\n\")\n",
    "    self.training = df.to_numpy()\n",
    "    \n",
    "  def fit_predict(self, k_num:int = 3, max_step:int = 500, conv_threshold: float = 1e-5) -> np.array:\n",
    "    # Membuat model KMeans dengan K tertentu. Akan mengkembalikan hasil prediksi cluster. Poin kluster akan disimpan pada variable point\n",
    "\n",
    "    # Setting up cluster arry for every record\n",
    "    cluster = np.zeros(len(self.training))\n",
    "    \n",
    "    # normalize data\n",
    "    data = self.__normalize_data__(self.training)\n",
    "    \n",
    "    # Initialize centroids using kmeans++\n",
    "    point = self.__initialize_centroids__(data, k_num)\n",
    "        \n",
    "    # Setup convergence and counter\n",
    "    convergence = False\n",
    "    step = 0 \n",
    "        \n",
    "    while not convergence and (step < max_step):\n",
    "      initial_point = point\n",
    "      distance = self.__calculate_distance__(data, point)\n",
    "      cluster = self.__clustering__(distance)\n",
    "      new_point = self.__point_nomralization__(data, point, cluster)\n",
    "      convergence = self.__convergence_check__(initial_point, new_point, conv_threshold)\n",
    "      if convergence:\n",
    "        print(\"It's convergence!\")\n",
    "      else:\n",
    "        point = new_point\n",
    "        step += 1\n",
    "        print(\"STEP:\", step)\n",
    "    self.inersia = self.__calculate_inersia__(data, cluster, point)\n",
    "    self.point = self.__denormalize_point__(point, self.training)\n",
    "    return cluster\n",
    "\n",
    "  def get_cluster_centroid(self) -> np.array:\n",
    "    # Fungsi ini digunakan untuk mengambil point\n",
    "    if type(self.point) == \"NoneType\":\n",
    "      print(\"Nothing returned, point not initialize. Try using fit_predict first.\")\n",
    "      return\n",
    "    return self.point\n",
    "  \n",
    "  def __initialize_centroids__(self, data:np.array, k:np.array) -> np.array:\n",
    "    # Fungsi ini digunakan untuk menginisialisasikan centroid. Menggunakan algoritma k-means++\n",
    "    centroids = []\n",
    "    centroids.append( data[random.randrange(0, len(data))] )\n",
    "    \n",
    "    for i in range(1, k):\n",
    "      min_dist = []\n",
    "      for data_point in data:\n",
    "        distance_data_point = []\n",
    "        for point in centroids:\n",
    "          distance_data_point.append(np.linalg.norm(data_point - point))\n",
    "        min_dist.append(min(distance_data_point))\n",
    "      probcum  = sum(min_dist)\n",
    "      prob_point = [value / probcum for value in min_dist]\n",
    "      centroids.append(data[np.argmax(prob_point)])\n",
    "    return np.array(centroids)\n",
    "  \n",
    "  def __clustering__(self, distance: np.array) -> np.array:\n",
    "    # Fungsi ini akan mengembalikan hasil clustering berdasarkan distance\n",
    "    cluster = np.zeros(len(distance))\n",
    "    for i in range(len(cluster)):\n",
    "      cluster[i] = np.argmin(distance[i])\n",
    "    return cluster\n"
   ]
  }
 ],
 "metadata": {
  "interpreter": {
   "hash": "634d0cdf00b355cd85042fbe0824de228df07578cd1f92a580065041ed26857b"
  },
  "kernelspec": {
   "display_name": "Python 3.9.2 64-bit",
   "name": "python3"
  },
  "language_info": {
   "codemirror_mode": {
    "name": "ipython",
    "version": 3
   },
   "file_extension": ".py",
   "mimetype": "text/x-python",
   "name": "python",
   "nbconvert_exporter": "python",
   "pygments_lexer": "ipython3",
   "version": "3.9.2"
  },
  "orig_nbformat": 4
 },
 "nbformat": 4,
 "nbformat_minor": 2
}
