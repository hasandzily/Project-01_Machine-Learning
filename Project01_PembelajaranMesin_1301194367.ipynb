{
  "nbformat": 4,
  "nbformat_minor": 0,
  "metadata": {
    "colab": {
      "name": "Project01_PembelajaranMesin_1301194367",
      "provenance": [],
      "collapsed_sections": [],
      "toc_visible": true
    },
    "kernelspec": {
      "name": "python3",
      "display_name": "Python 3"
    },
    "language_info": {
      "name": "python"
    }
  },
  "cells": [
    {
      "cell_type": "markdown",
      "metadata": {
        "id": "CosEk21QYCRm"
      },
      "source": [
        "# Tugas Besar Project 01 Pembelajaran Mesin\n",
        "\n",
        "Muhammad Hasan Syadzily  \n",
        "I301194367  \n",
        "IF-43-04  \n",
        "\n"
      ]
    },
    {
      "cell_type": "markdown",
      "metadata": {
        "id": "NvLp3SBDYG3-"
      },
      "source": [
        "# Import Library"
      ]
    },
    {
      "cell_type": "code",
      "metadata": {
        "id": "Ab-ez97OYEUL"
      },
      "source": [
        "import math\n",
        "import pickle\n",
        "import random\n",
        "import numpy as np\n",
        "import pandas as pd\n",
        "import matplotlib.cm as cm\n",
        "import matplotlib.pyplot as plt\n",
        "from urllib.request import urlopen\n",
        "from sklearn.preprocessing import MinMaxScaler\n",
        "from sklearn.metrics import silhouette_score, silhouette_samples"
      ],
      "execution_count": 1,
      "outputs": []
    },
    {
      "cell_type": "markdown",
      "metadata": {
        "id": "DF5aEa2LYO9h"
      },
      "source": [
        "# Import Dataset\n"
      ]
    },
    {
      "cell_type": "code",
      "metadata": {
        "colab": {
          "base_uri": "https://localhost:8080/",
          "height": 205
        },
        "id": "Dp_7mnY3YR7Z",
        "outputId": "c49df809-ba99-443d-e82d-93ac4fef81ff"
      },
      "source": [
        "df_raw = pd.read_csv(\"https://raw.githubusercontent.com/hasandzily/Project-01_Machine-Learning/main/Data/kendaraan_train.csv\")\n",
        "df_raw.head()"
      ],
      "execution_count": 2,
      "outputs": [
        {
          "output_type": "execute_result",
          "data": {
            "text/html": [
              "<div>\n",
              "<style scoped>\n",
              "    .dataframe tbody tr th:only-of-type {\n",
              "        vertical-align: middle;\n",
              "    }\n",
              "\n",
              "    .dataframe tbody tr th {\n",
              "        vertical-align: top;\n",
              "    }\n",
              "\n",
              "    .dataframe thead th {\n",
              "        text-align: right;\n",
              "    }\n",
              "</style>\n",
              "<table border=\"1\" class=\"dataframe\">\n",
              "  <thead>\n",
              "    <tr style=\"text-align: right;\">\n",
              "      <th></th>\n",
              "      <th>id</th>\n",
              "      <th>Jenis_Kelamin</th>\n",
              "      <th>Umur</th>\n",
              "      <th>SIM</th>\n",
              "      <th>Kode_Daerah</th>\n",
              "      <th>Sudah_Asuransi</th>\n",
              "      <th>Umur_Kendaraan</th>\n",
              "      <th>Kendaraan_Rusak</th>\n",
              "      <th>Premi</th>\n",
              "      <th>Kanal_Penjualan</th>\n",
              "      <th>Lama_Berlangganan</th>\n",
              "      <th>Tertarik</th>\n",
              "    </tr>\n",
              "  </thead>\n",
              "  <tbody>\n",
              "    <tr>\n",
              "      <th>0</th>\n",
              "      <td>1</td>\n",
              "      <td>Wanita</td>\n",
              "      <td>30.0</td>\n",
              "      <td>1.0</td>\n",
              "      <td>33.0</td>\n",
              "      <td>1.0</td>\n",
              "      <td>&lt; 1 Tahun</td>\n",
              "      <td>Tidak</td>\n",
              "      <td>28029.0</td>\n",
              "      <td>152.0</td>\n",
              "      <td>97.0</td>\n",
              "      <td>0</td>\n",
              "    </tr>\n",
              "    <tr>\n",
              "      <th>1</th>\n",
              "      <td>2</td>\n",
              "      <td>Pria</td>\n",
              "      <td>48.0</td>\n",
              "      <td>1.0</td>\n",
              "      <td>39.0</td>\n",
              "      <td>0.0</td>\n",
              "      <td>&gt; 2 Tahun</td>\n",
              "      <td>Pernah</td>\n",
              "      <td>25800.0</td>\n",
              "      <td>29.0</td>\n",
              "      <td>158.0</td>\n",
              "      <td>0</td>\n",
              "    </tr>\n",
              "    <tr>\n",
              "      <th>2</th>\n",
              "      <td>3</td>\n",
              "      <td>NaN</td>\n",
              "      <td>21.0</td>\n",
              "      <td>1.0</td>\n",
              "      <td>46.0</td>\n",
              "      <td>1.0</td>\n",
              "      <td>&lt; 1 Tahun</td>\n",
              "      <td>Tidak</td>\n",
              "      <td>32733.0</td>\n",
              "      <td>160.0</td>\n",
              "      <td>119.0</td>\n",
              "      <td>0</td>\n",
              "    </tr>\n",
              "    <tr>\n",
              "      <th>3</th>\n",
              "      <td>4</td>\n",
              "      <td>Wanita</td>\n",
              "      <td>58.0</td>\n",
              "      <td>1.0</td>\n",
              "      <td>48.0</td>\n",
              "      <td>0.0</td>\n",
              "      <td>1-2 Tahun</td>\n",
              "      <td>Tidak</td>\n",
              "      <td>2630.0</td>\n",
              "      <td>124.0</td>\n",
              "      <td>63.0</td>\n",
              "      <td>0</td>\n",
              "    </tr>\n",
              "    <tr>\n",
              "      <th>4</th>\n",
              "      <td>5</td>\n",
              "      <td>Pria</td>\n",
              "      <td>50.0</td>\n",
              "      <td>1.0</td>\n",
              "      <td>35.0</td>\n",
              "      <td>0.0</td>\n",
              "      <td>&gt; 2 Tahun</td>\n",
              "      <td>NaN</td>\n",
              "      <td>34857.0</td>\n",
              "      <td>88.0</td>\n",
              "      <td>194.0</td>\n",
              "      <td>0</td>\n",
              "    </tr>\n",
              "  </tbody>\n",
              "</table>\n",
              "</div>"
            ],
            "text/plain": [
              "   id Jenis_Kelamin  Umur  ...  Kanal_Penjualan  Lama_Berlangganan  Tertarik\n",
              "0   1        Wanita  30.0  ...            152.0               97.0         0\n",
              "1   2          Pria  48.0  ...             29.0              158.0         0\n",
              "2   3           NaN  21.0  ...            160.0              119.0         0\n",
              "3   4        Wanita  58.0  ...            124.0               63.0         0\n",
              "4   5          Pria  50.0  ...             88.0              194.0         0\n",
              "\n",
              "[5 rows x 12 columns]"
            ]
          },
          "metadata": {},
          "execution_count": 2
        }
      ]
    },
    {
      "cell_type": "markdown",
      "metadata": {
        "id": "E-rFjT_qYZmY"
      },
      "source": [
        "## Total Records Dataset"
      ]
    },
    {
      "cell_type": "code",
      "metadata": {
        "colab": {
          "base_uri": "https://localhost:8080/"
        },
        "id": "UK9DCrETYkXn",
        "outputId": "e0e15423-1855-4b3c-ae62-7eb8c8fed4e9"
      },
      "source": [
        "len(df_raw)"
      ],
      "execution_count": 3,
      "outputs": [
        {
          "output_type": "execute_result",
          "data": {
            "text/plain": [
              "285831"
            ]
          },
          "metadata": {},
          "execution_count": 3
        }
      ]
    },
    {
      "cell_type": "markdown",
      "metadata": {
        "id": "qrIDsU8aZlTa"
      },
      "source": [
        "# Eksplorasi dan Persiapan Data"
      ]
    },
    {
      "cell_type": "markdown",
      "metadata": {
        "id": "RLJUixmjZoK2"
      },
      "source": [
        "## Data Cleansing"
      ]
    },
    {
      "cell_type": "code",
      "metadata": {
        "colab": {
          "base_uri": "https://localhost:8080/"
        },
        "id": "AeynjQKhaowG",
        "outputId": "a637cd22-6673-43a5-d3e2-3eefc73fdf40"
      },
      "source": [
        "df_dropna = df_raw.dropna(how=\"any\")\n",
        "len(df_dropna)"
      ],
      "execution_count": 4,
      "outputs": [
        {
          "output_type": "execute_result",
          "data": {
            "text/plain": [
              "171068"
            ]
          },
          "metadata": {},
          "execution_count": 4
        }
      ]
    },
    {
      "cell_type": "markdown",
      "metadata": {
        "id": "g4julAZIarIA"
      },
      "source": [
        "### Drop Data Categorical"
      ]
    },
    {
      "cell_type": "code",
      "metadata": {
        "colab": {
          "base_uri": "https://localhost:8080/",
          "height": 268
        },
        "id": "R3CPvhMpayDx",
        "outputId": "72702f30-5e0d-45e3-d02c-14fe7990138a"
      },
      "source": [
        "df_dropna_dropcategorical = df_dropna.drop(axis=1, columns=[\"Kendaraan_Rusak\", \"Umur_Kendaraan\", \"Sudah_Asuransi\", \"SIM\", \"Jenis_Kelamin\"])\n",
        "df_dropna_dropcategorical.sample(7)"
      ],
      "execution_count": 32,
      "outputs": [
        {
          "output_type": "execute_result",
          "data": {
            "text/html": [
              "<div>\n",
              "<style scoped>\n",
              "    .dataframe tbody tr th:only-of-type {\n",
              "        vertical-align: middle;\n",
              "    }\n",
              "\n",
              "    .dataframe tbody tr th {\n",
              "        vertical-align: top;\n",
              "    }\n",
              "\n",
              "    .dataframe thead th {\n",
              "        text-align: right;\n",
              "    }\n",
              "</style>\n",
              "<table border=\"1\" class=\"dataframe\">\n",
              "  <thead>\n",
              "    <tr style=\"text-align: right;\">\n",
              "      <th></th>\n",
              "      <th>id</th>\n",
              "      <th>Umur</th>\n",
              "      <th>Kode_Daerah</th>\n",
              "      <th>Premi</th>\n",
              "      <th>Kanal_Penjualan</th>\n",
              "      <th>Lama_Berlangganan</th>\n",
              "      <th>Tertarik</th>\n",
              "    </tr>\n",
              "  </thead>\n",
              "  <tbody>\n",
              "    <tr>\n",
              "      <th>74267</th>\n",
              "      <td>74268</td>\n",
              "      <td>20.0</td>\n",
              "      <td>36.0</td>\n",
              "      <td>30260.0</td>\n",
              "      <td>160.0</td>\n",
              "      <td>211.0</td>\n",
              "      <td>0</td>\n",
              "    </tr>\n",
              "    <tr>\n",
              "      <th>233583</th>\n",
              "      <td>233584</td>\n",
              "      <td>45.0</td>\n",
              "      <td>2.0</td>\n",
              "      <td>26135.0</td>\n",
              "      <td>124.0</td>\n",
              "      <td>70.0</td>\n",
              "      <td>0</td>\n",
              "    </tr>\n",
              "    <tr>\n",
              "      <th>80390</th>\n",
              "      <td>80391</td>\n",
              "      <td>48.0</td>\n",
              "      <td>37.0</td>\n",
              "      <td>29801.0</td>\n",
              "      <td>26.0</td>\n",
              "      <td>93.0</td>\n",
              "      <td>0</td>\n",
              "    </tr>\n",
              "    <tr>\n",
              "      <th>150499</th>\n",
              "      <td>150500</td>\n",
              "      <td>23.0</td>\n",
              "      <td>33.0</td>\n",
              "      <td>2630.0</td>\n",
              "      <td>152.0</td>\n",
              "      <td>280.0</td>\n",
              "      <td>0</td>\n",
              "    </tr>\n",
              "    <tr>\n",
              "      <th>241694</th>\n",
              "      <td>241695</td>\n",
              "      <td>55.0</td>\n",
              "      <td>28.0</td>\n",
              "      <td>54159.0</td>\n",
              "      <td>124.0</td>\n",
              "      <td>157.0</td>\n",
              "      <td>0</td>\n",
              "    </tr>\n",
              "    <tr>\n",
              "      <th>15180</th>\n",
              "      <td>15181</td>\n",
              "      <td>28.0</td>\n",
              "      <td>41.0</td>\n",
              "      <td>27299.0</td>\n",
              "      <td>152.0</td>\n",
              "      <td>16.0</td>\n",
              "      <td>0</td>\n",
              "    </tr>\n",
              "    <tr>\n",
              "      <th>8663</th>\n",
              "      <td>8664</td>\n",
              "      <td>27.0</td>\n",
              "      <td>41.0</td>\n",
              "      <td>40715.0</td>\n",
              "      <td>152.0</td>\n",
              "      <td>97.0</td>\n",
              "      <td>0</td>\n",
              "    </tr>\n",
              "  </tbody>\n",
              "</table>\n",
              "</div>"
            ],
            "text/plain": [
              "            id  Umur  Kode_Daerah  ...  Kanal_Penjualan  Lama_Berlangganan  Tertarik\n",
              "74267    74268  20.0         36.0  ...            160.0              211.0         0\n",
              "233583  233584  45.0          2.0  ...            124.0               70.0         0\n",
              "80390    80391  48.0         37.0  ...             26.0               93.0         0\n",
              "150499  150500  23.0         33.0  ...            152.0              280.0         0\n",
              "241694  241695  55.0         28.0  ...            124.0              157.0         0\n",
              "15180    15181  28.0         41.0  ...            152.0               16.0         0\n",
              "8663      8664  27.0         41.0  ...            152.0               97.0         0\n",
              "\n",
              "[7 rows x 7 columns]"
            ]
          },
          "metadata": {},
          "execution_count": 32
        }
      ]
    },
    {
      "cell_type": "markdown",
      "metadata": {
        "id": "YRr8XiWAbZBn"
      },
      "source": [
        "### Pengecekan Outlier"
      ]
    },
    {
      "cell_type": "code",
      "metadata": {
        "colab": {
          "base_uri": "https://localhost:8080/",
          "height": 375
        },
        "id": "ms_VkoKibbo-",
        "outputId": "4e079bf5-3df9-4ee1-b314-2d5f675842d5"
      },
      "source": [
        "fig, (g1, g2, g3, g4, g5) = plt.subplots(1,5)\n",
        "fig.suptitle(\"Box Plot masing-masing atribut\")\n",
        "fig.set_size_inches(15,5)\n",
        "g1.boxplot(df_dropna_dropcategorical[\"Umur\"])\n",
        "g1.set_title(\"Umur\")\n",
        "g2.boxplot(df_dropna_dropcategorical[\"Kode_Daerah\"])\n",
        "g2.set_title(\"Kode_Daerah\")\n",
        "g3.boxplot(df_dropna_dropcategorical[\"Premi\"])\n",
        "g3.set_title(\"Premi\")\n",
        "g4.boxplot(df_dropna_dropcategorical[\"Kanal_Penjualan\"])\n",
        "g4.set_title(\"Kanal_Penjualan\")\n",
        "g5.boxplot(df_dropna_dropcategorical[\"Lama_Berlangganan\"])\n",
        "g5.set_title(\"Lama_Berlangganan\")"
      ],
      "execution_count": 6,
      "outputs": [
        {
          "output_type": "execute_result",
          "data": {
            "text/plain": [
              "Text(0.5, 1.0, 'Lama_Berlangganan')"
            ]
          },
          "metadata": {},
          "execution_count": 6
        },
        {
          "output_type": "display_data",
          "data": {
            "image/png": "[encoded data removed]",
            "text/plain": [
              "<Figure size 1080x360 with 5 Axes>"
            ]
          },
          "metadata": {
            "needs_background": "light"
          }
        }
      ]
    },
    {
      "cell_type": "markdown",
      "metadata": {
        "id": "vOH5MqxLcVp3"
      },
      "source": [
        "Boxplot Sebelum Dilakukan Data Cleansing"
      ]
    },
    {
      "cell_type": "markdown",
      "metadata": {
        "id": "gaRzeHPsboX0"
      },
      "source": [
        "### Drop Outlier Menggunakan Metode Interquartile Range"
      ]
    },
    {
      "cell_type": "code",
      "metadata": {
        "colab": {
          "base_uri": "https://localhost:8080/"
        },
        "id": "yVNdvH1pbtnb",
        "outputId": "e5c9e2fa-e11d-43fd-b8d3-a50579b9c597"
      },
      "source": [
        "describe = df_dropna_dropcategorical.describe()\n",
        "describe\n",
        "iqr_premi = float(describe[\"Premi\"].loc[\"75%\"] - describe[\"Premi\"].loc[\"25%\"])\n",
        "q1_bound = float(describe[\"Premi\"].loc[\"25%\"]) - (iqr_premi * 1.5)\n",
        "q2_bound = float(describe[\"Premi\"].loc[\"75%\"]) + (iqr_premi * 1.5)\n",
        "final_df = df_dropna_dropcategorical.copy()\n",
        "final_df.reset_index(drop=True, inplace=True)\n",
        "final_df = final_df[(final_df[\"Premi\"] > q1_bound) & (final_df[\"Premi\"] < q2_bound)]\n",
        "len(final_df)"
      ],
      "execution_count": 7,
      "outputs": [
        {
          "output_type": "execute_result",
          "data": {
            "text/plain": [
              "166396"
            ]
          },
          "metadata": {},
          "execution_count": 7
        }
      ]
    },
    {
      "cell_type": "markdown",
      "metadata": {
        "id": "7umaP0qrb4Gn"
      },
      "source": [
        "Setelah di drop total records berjumlah 166396 records"
      ]
    },
    {
      "cell_type": "code",
      "metadata": {
        "colab": {
          "base_uri": "https://localhost:8080/",
          "height": 375
        },
        "id": "-BnxlPg7bzXq",
        "outputId": "ed74a4d3-11b4-4e21-e3c4-1ae34215809c"
      },
      "source": [
        "fig, (g1, g2, g3, g4, g5) = plt.subplots(1,5)\n",
        "fig.suptitle(\"Box Plot masing-masing atribut\")\n",
        "fig.set_size_inches(15,5)\n",
        "g1.boxplot(final_df[\"Umur\"])\n",
        "g1.set_title(\"Umur\")\n",
        "g2.boxplot(final_df[\"Kode_Daerah\"])\n",
        "g2.set_title(\"Kode_Daerah\")\n",
        "g3.boxplot(final_df[\"Premi\"])\n",
        "g3.set_title(\"Premi\")\n",
        "g4.boxplot(final_df[\"Kanal_Penjualan\"])\n",
        "g4.set_title(\"Kanal_Penjualan\")\n",
        "g5.boxplot(final_df[\"Lama_Berlangganan\"])\n",
        "g5.set_title(\"Lama_Berlangganan\")"
      ],
      "execution_count": 8,
      "outputs": [
        {
          "output_type": "execute_result",
          "data": {
            "text/plain": [
              "Text(0.5, 1.0, 'Lama_Berlangganan')"
            ]
          },
          "metadata": {},
          "execution_count": 8
        },
        {
          "output_type": "display_data",
          "data": {
            "image/png": "[encoded data removed]",
            "text/plain": [
              "<Figure size 1080x360 with 5 Axes>"
            ]
          },
          "metadata": {
            "needs_background": "light"
          }
        }
      ]
    },
    {
      "cell_type": "markdown",
      "metadata": {
        "id": "1nuwmfjdcabU"
      },
      "source": [
        "Boxplot Sesudah Dilakukan Data Cleansing"
      ]
    },
    {
      "cell_type": "markdown",
      "metadata": {
        "id": "rr7dDG5gceoO"
      },
      "source": [
        "## Pengecekan Korelasi"
      ]
    },
    {
      "cell_type": "code",
      "metadata": {
        "colab": {
          "base_uri": "https://localhost:8080/",
          "height": 275
        },
        "id": "pcXhIhtech2C",
        "outputId": "239e9cec-fbb1-425d-e705-fbb1d4f98466"
      },
      "source": [
        "plt.matshow(final_df.corr())\n",
        "plt.show()"
      ],
      "execution_count": 9,
      "outputs": [
        {
          "output_type": "display_data",
          "data": {
            "image/png": "[encoded data removed]",
            "text/plain": [
              "<Figure size 288x288 with 1 Axes>"
            ]
          },
          "metadata": {
            "needs_background": "light"
          }
        }
      ]
    },
    {
      "cell_type": "code",
      "metadata": {
        "colab": {
          "base_uri": "https://localhost:8080/",
          "height": 268
        },
        "id": "Cd3fXM7Xcnk2",
        "outputId": "05105125-2ef7-4f76-e70d-401332381bbe"
      },
      "source": [
        "final_df.corr()"
      ],
      "execution_count": 10,
      "outputs": [
        {
          "output_type": "execute_result",
          "data": {
            "text/html": [
              "<div>\n",
              "<style scoped>\n",
              "    .dataframe tbody tr th:only-of-type {\n",
              "        vertical-align: middle;\n",
              "    }\n",
              "\n",
              "    .dataframe tbody tr th {\n",
              "        vertical-align: top;\n",
              "    }\n",
              "\n",
              "    .dataframe thead th {\n",
              "        text-align: right;\n",
              "    }\n",
              "</style>\n",
              "<table border=\"1\" class=\"dataframe\">\n",
              "  <thead>\n",
              "    <tr style=\"text-align: right;\">\n",
              "      <th></th>\n",
              "      <th>id</th>\n",
              "      <th>Umur</th>\n",
              "      <th>Kode_Daerah</th>\n",
              "      <th>Premi</th>\n",
              "      <th>Kanal_Penjualan</th>\n",
              "      <th>Lama_Berlangganan</th>\n",
              "      <th>Tertarik</th>\n",
              "    </tr>\n",
              "  </thead>\n",
              "  <tbody>\n",
              "    <tr>\n",
              "      <th>id</th>\n",
              "      <td>1.000000</td>\n",
              "      <td>0.002691</td>\n",
              "      <td>0.000597</td>\n",
              "      <td>0.002643</td>\n",
              "      <td>-0.001621</td>\n",
              "      <td>0.001875</td>\n",
              "      <td>0.000203</td>\n",
              "    </tr>\n",
              "    <tr>\n",
              "      <th>Umur</th>\n",
              "      <td>0.002691</td>\n",
              "      <td>1.000000</td>\n",
              "      <td>0.044503</td>\n",
              "      <td>0.046519</td>\n",
              "      <td>-0.574807</td>\n",
              "      <td>-0.001055</td>\n",
              "      <td>0.108781</td>\n",
              "    </tr>\n",
              "    <tr>\n",
              "      <th>Kode_Daerah</th>\n",
              "      <td>0.000597</td>\n",
              "      <td>0.044503</td>\n",
              "      <td>1.000000</td>\n",
              "      <td>-0.004068</td>\n",
              "      <td>-0.044871</td>\n",
              "      <td>-0.003771</td>\n",
              "      <td>0.010484</td>\n",
              "    </tr>\n",
              "    <tr>\n",
              "      <th>Premi</th>\n",
              "      <td>0.002643</td>\n",
              "      <td>0.046519</td>\n",
              "      <td>-0.004068</td>\n",
              "      <td>1.000000</td>\n",
              "      <td>-0.105819</td>\n",
              "      <td>0.001831</td>\n",
              "      <td>0.019686</td>\n",
              "    </tr>\n",
              "    <tr>\n",
              "      <th>Kanal_Penjualan</th>\n",
              "      <td>-0.001621</td>\n",
              "      <td>-0.574807</td>\n",
              "      <td>-0.044871</td>\n",
              "      <td>-0.105819</td>\n",
              "      <td>1.000000</td>\n",
              "      <td>0.000017</td>\n",
              "      <td>-0.139186</td>\n",
              "    </tr>\n",
              "    <tr>\n",
              "      <th>Lama_Berlangganan</th>\n",
              "      <td>0.001875</td>\n",
              "      <td>-0.001055</td>\n",
              "      <td>-0.003771</td>\n",
              "      <td>0.001831</td>\n",
              "      <td>0.000017</td>\n",
              "      <td>1.000000</td>\n",
              "      <td>0.001819</td>\n",
              "    </tr>\n",
              "    <tr>\n",
              "      <th>Tertarik</th>\n",
              "      <td>0.000203</td>\n",
              "      <td>0.108781</td>\n",
              "      <td>0.010484</td>\n",
              "      <td>0.019686</td>\n",
              "      <td>-0.139186</td>\n",
              "      <td>0.001819</td>\n",
              "      <td>1.000000</td>\n",
              "    </tr>\n",
              "  </tbody>\n",
              "</table>\n",
              "</div>"
            ],
            "text/plain": [
              "                         id      Umur  ...  Lama_Berlangganan  Tertarik\n",
              "id                 1.000000  0.002691  ...           0.001875  0.000203\n",
              "Umur               0.002691  1.000000  ...          -0.001055  0.108781\n",
              "Kode_Daerah        0.000597  0.044503  ...          -0.003771  0.010484\n",
              "Premi              0.002643  0.046519  ...           0.001831  0.019686\n",
              "Kanal_Penjualan   -0.001621 -0.574807  ...           0.000017 -0.139186\n",
              "Lama_Berlangganan  0.001875 -0.001055  ...           1.000000  0.001819\n",
              "Tertarik           0.000203  0.108781  ...           0.001819  1.000000\n",
              "\n",
              "[7 rows x 7 columns]"
            ]
          },
          "metadata": {},
          "execution_count": 10
        }
      ]
    },
    {
      "cell_type": "markdown",
      "metadata": {
        "id": "qxy4CMNbcotb"
      },
      "source": [
        "Korelasi pada atribut Umur dan Kanal penjualan sangat tinggi"
      ]
    },
    {
      "cell_type": "markdown",
      "metadata": {
        "id": "Slls2W9zcsT2"
      },
      "source": [
        "# Pemodelan"
      ]
    },
    {
      "cell_type": "code",
      "metadata": {
        "id": "DIVzNBO9cuQ7"
      },
      "source": [
        "class KMeans:\n",
        "  point = None\n",
        "  inertia = None\n",
        "  training_array = None\n",
        "  \n",
        "  # Fungsi dari kelas ini yaitu untuk mempersiapkan dataframe yang akan ditraining setelah dilakukannya data cleansing\n",
        "  def __init__(self, df: pd.DataFrame):\n",
        "    print(\"[\", end=\"\")\n",
        "    for i in range(len(df.columns)):\n",
        "      print(df.columns[i] + \" \", end=\"\")\n",
        "    print(\"]\", end=\"\\n\")\n",
        "    self.training_array = df.to_numpy()\n",
        "  \n",
        "  # Fungsi ini berguna untuk membuat model K-Means dengan nilai K yang ditentukan dan menyimpan point cluster pada variabel point\n",
        "  def prediksi_fit(self, k_num:int = 3, max_langkah:int = 500, conv_threshold: float = 1e-5) -> np.array:\n",
        "    cluster = np.zeros(len(self.training_array))  # Mempersiapkan cluster array untuk setiap record\n",
        "    data = self.__normalisasi_data__(self.training_array) # Untuk menormalisasi data\n",
        "    point = self.__inisialisasi_centroids__(data, k_num) # Untuk menginisialisasikan centroids menggunakan KMeans++\n",
        "    konvergen = False\n",
        "    langkah = 0\n",
        "    while not konvergen and (langkah < max_langkah):\n",
        "      inisial_point = point\n",
        "      distance = self.__hitung_distance__(data, point)\n",
        "      cluster = self.__clustering__(distance)\n",
        "      point_baru = self.__point_normalisasi__(data, point, cluster)\n",
        "      konvergen = self.__konvergen_cek__(inisial_point, point_baru, conv_threshold)\n",
        "      if konvergen:\n",
        "        point = point_baru\n",
        "        print(\"Adalah konvergen\")\n",
        "      else:\n",
        "        point = point_baru\n",
        "        langkah += 1\n",
        "        print(\"Langkah:\", langkah)\n",
        "    self.inertia = self.__hitung_inertia__(data, cluster, point)\n",
        "    self.point = self.__denormalisasi_point__(point, self.training_array)\n",
        "    return cluster\n",
        "\n",
        "  # Fungsi ini berguna untuk mengambil point\n",
        "  def get_cluster_centroid(self) -> np.array:\n",
        "    if type(self.point) == \"NoneType\":\n",
        "      print(\"Point tidak terinisialisasi\")\n",
        "      return\n",
        "    return self.point\n",
        "  \n",
        "  # Fungsi ini berguna untuk menginisialisasikan centroid dengan menggunakan KMeans++\n",
        "  def __inisialisasi_centroids__(self, data:np.array, k:np.array) -> np.array:\n",
        "    centroids = []\n",
        "    centroids.append(data[random.randrange(0, len(data))])\n",
        "    for i in range(1, k):\n",
        "      min_dist = []\n",
        "      for data_point in data:\n",
        "        distance_data_point = []\n",
        "        for point in centroids:\n",
        "          distance_data_point.append(np.linalg.norm(data_point - point))\n",
        "        min_dist.append(min(distance_data_point))\n",
        "      probcum  = sum(min_dist)\n",
        "      prob_point = [value / probcum for value in min_dist]\n",
        "      centroids.append(data[np.argmax(prob_point)])\n",
        "    return np.array(centroids)\n",
        "  \n",
        "  # Fungsi ini berguna untuk mengembalikan hasil clustering berdasarkan distance\n",
        "  def __clustering__(self, distance: np.array) -> np.array:\n",
        "    cluster = np.zeros(len(distance))\n",
        "    for i in range(len(cluster)):\n",
        "      cluster[i] = np.argmin(distance[i])\n",
        "    return cluster\n",
        "\n",
        "  # Fungsi ini berguna untuk menghitung setiap titik dengan point dan mengembalikan distance dari titik ke point\n",
        "  def __hitung_distance__(self, data:np.array, point: np.array) -> np.array:\n",
        "    distance = np.zeros((len(data), len(point)))\n",
        "    for i in range(len(data)):\n",
        "      current_record = data[i]\n",
        "      for j in range(len(point)):\n",
        "        current_point = point[j]\n",
        "        distance[i][j] = np.linalg.norm(current_point - current_record) # Menggunakan numpy euclidean distance\n",
        "    return distance\n",
        "  \n",
        "  # Fungsi ini berguna untuk menghitung ulang point dengan rata-rata\n",
        "  def __point_normalisasi__(self, data:np.array, point:np.array, cluster:np.array) -> (np.array, np.array):\n",
        "    point_baru = np.zeros((len(point), len(point[0])))\n",
        "    counter_array = np.zeros(len(point))\n",
        "    for i in range(len(cluster)):\n",
        "      point_baru[int(cluster[i])] = point_baru[int(cluster[i])] + data[i]\n",
        "      counter_array[int(cluster[i])] += 1\n",
        "    unique_on_cluster = np.unique(cluster)\n",
        "    for i in range(len(point)):\n",
        "      # Mengatasi Atribut yang memiliki data \"NaN\"\n",
        "      if i not in unique_on_cluster:\n",
        "        point_baru[i] = point[i]\n",
        "      else:\n",
        "        point_baru[i] = np.true_divide(point_baru[i], counter_array[i])\n",
        "    return point_baru\n",
        "\n",
        "  # Fungsi ini berguna untuk mengecek konvergen berdasarkan threshold yang dibuat. Lalu titik cluster pertama akan dibandingkan dengan yang kedua.\n",
        "  def __konvergen_cek__(self, points1: np.array, points2:np.array, threshold: float) -> bool:\n",
        "    lokal_konvergen = False\n",
        "    normalisasi_threshold_positive, normalisasi_threshold_negative  = 1 + threshold, 1 - threshold\n",
        "    points_counter = 0\n",
        "    center = np.zeros(len(points1[0]))\n",
        "    for i in range(len(points1)):\n",
        "      current_first_point, current_second_point = points1[i], points2[i]\n",
        "      distance_first_point, distance_second_point = np.linalg.norm(current_first_point - center), np.linalg.norm(current_second_point - center)\n",
        "      distance_threshold_positive = distance_first_point * normalisasi_threshold_positive\n",
        "      distance_threshold_negative = distance_first_point * normalisasi_threshold_negative\n",
        "      if distance_threshold_positive > distance_second_point and distance_threshold_negative < distance_second_point:\n",
        "        points_counter += 1\n",
        "    if points_counter == len(points1):\n",
        "      lokal_konvergen = True\n",
        "    return lokal_konvergen\n",
        "  \n",
        "  # Inertia mengukur seberapa baik dataset yang diklusterisasi menggunakan KMeans \n",
        "  # Dengan cara mengukur distance antara setiap data point dan centroidnya, mengkuadratkan distance, dan menjumlahkannya melewati satu cluster\n",
        "  def __hitung_inertia__(self, data:np.array, cluster:np.array, points:np.array) -> np.array:\n",
        "    inertia = 0\n",
        "    for i in range(len(data)):\n",
        "      inertia += (np.linalg.norm(data[i] - points[int(cluster[i])]))**2\n",
        "    return inertia\n",
        "  \n",
        "  # Fungsi ini berguna untuk menormalisasikan data menggunakan min-max scaling \n",
        "  # Sampai data berjenis dan bersatuan dapat diproses dengan baik\n",
        "  def __normalisasi_data__(self, data:np.array) -> np.array:\n",
        "    data = data.copy()\n",
        "    for i in range(len(data[0])):\n",
        "      col_arr = data[:,i]\n",
        "      minmax = MinMaxScaler()\n",
        "      normalisasi = minmax.fit_transform(col_arr.reshape(-1,1)).reshape(1,-1)\n",
        "      data[:, i] = normalisasi[0]\n",
        "    return data\n",
        "  \n",
        "  # Fungsi ini berguna untuk mendenormalisasikan point-point yang sudah dihitung menggunakan data yang ternormalisasi\n",
        "  def __denormalisasi_point__(self, data:np.array, original_data:np.array) -> np.array:\n",
        "    for i in range(len(data[0])):\n",
        "      col_arr = data[:,i]\n",
        "      col_arr_ori = original_data[:, i]\n",
        "      minimums = min(col_arr_ori)\n",
        "      maximums = max(col_arr_ori)\n",
        "      for j in range(len(col_arr)):\n",
        "        col_arr[j] = ((col_arr[j] * (maximums - minimums)) + minimums)\n",
        "      data[:, i] = col_arr\n",
        "    return data"
      ],
      "execution_count": 11,
      "outputs": []
    },
    {
      "cell_type": "markdown",
      "metadata": {
        "id": "QbznyjHSdQJI"
      },
      "source": [
        "# Eksperimen"
      ]
    },
    {
      "cell_type": "code",
      "metadata": {
        "colab": {
          "base_uri": "https://localhost:8080/",
          "height": 236
        },
        "id": "kN4yuNMddU-3",
        "outputId": "fb2edefc-4241-4beb-935f-c8ee5e0a2058"
      },
      "source": [
        "df_training = final_df.copy()\n",
        "df_training.set_index(\"id\", inplace=True)\n",
        "df_labels = df_training[\"Tertarik\"]\n",
        "df_training.drop(columns=\"Tertarik\", axis=1, inplace=True)\n",
        "df_training.head()"
      ],
      "execution_count": 12,
      "outputs": [
        {
          "output_type": "execute_result",
          "data": {
            "text/html": [
              "<div>\n",
              "<style scoped>\n",
              "    .dataframe tbody tr th:only-of-type {\n",
              "        vertical-align: middle;\n",
              "    }\n",
              "\n",
              "    .dataframe tbody tr th {\n",
              "        vertical-align: top;\n",
              "    }\n",
              "\n",
              "    .dataframe thead th {\n",
              "        text-align: right;\n",
              "    }\n",
              "</style>\n",
              "<table border=\"1\" class=\"dataframe\">\n",
              "  <thead>\n",
              "    <tr style=\"text-align: right;\">\n",
              "      <th></th>\n",
              "      <th>Umur</th>\n",
              "      <th>Kode_Daerah</th>\n",
              "      <th>Premi</th>\n",
              "      <th>Kanal_Penjualan</th>\n",
              "      <th>Lama_Berlangganan</th>\n",
              "    </tr>\n",
              "    <tr>\n",
              "      <th>id</th>\n",
              "      <th></th>\n",
              "      <th></th>\n",
              "      <th></th>\n",
              "      <th></th>\n",
              "      <th></th>\n",
              "    </tr>\n",
              "  </thead>\n",
              "  <tbody>\n",
              "    <tr>\n",
              "      <th>1</th>\n",
              "      <td>30.0</td>\n",
              "      <td>33.0</td>\n",
              "      <td>28029.0</td>\n",
              "      <td>152.0</td>\n",
              "      <td>97.0</td>\n",
              "    </tr>\n",
              "    <tr>\n",
              "      <th>2</th>\n",
              "      <td>48.0</td>\n",
              "      <td>39.0</td>\n",
              "      <td>25800.0</td>\n",
              "      <td>29.0</td>\n",
              "      <td>158.0</td>\n",
              "    </tr>\n",
              "    <tr>\n",
              "      <th>4</th>\n",
              "      <td>58.0</td>\n",
              "      <td>48.0</td>\n",
              "      <td>2630.0</td>\n",
              "      <td>124.0</td>\n",
              "      <td>63.0</td>\n",
              "    </tr>\n",
              "    <tr>\n",
              "      <th>6</th>\n",
              "      <td>21.0</td>\n",
              "      <td>35.0</td>\n",
              "      <td>22735.0</td>\n",
              "      <td>152.0</td>\n",
              "      <td>171.0</td>\n",
              "    </tr>\n",
              "    <tr>\n",
              "      <th>9</th>\n",
              "      <td>20.0</td>\n",
              "      <td>8.0</td>\n",
              "      <td>30786.0</td>\n",
              "      <td>160.0</td>\n",
              "      <td>31.0</td>\n",
              "    </tr>\n",
              "  </tbody>\n",
              "</table>\n",
              "</div>"
            ],
            "text/plain": [
              "    Umur  Kode_Daerah    Premi  Kanal_Penjualan  Lama_Berlangganan\n",
              "id                                                                \n",
              "1   30.0         33.0  28029.0            152.0               97.0\n",
              "2   48.0         39.0  25800.0             29.0              158.0\n",
              "4   58.0         48.0   2630.0            124.0               63.0\n",
              "6   21.0         35.0  22735.0            152.0              171.0\n",
              "9   20.0          8.0  30786.0            160.0               31.0"
            ]
          },
          "metadata": {},
          "execution_count": 12
        }
      ]
    },
    {
      "cell_type": "markdown",
      "metadata": {
        "id": "Vsy8EYv1dfCd"
      },
      "source": [
        "## Total Records Dataset"
      ]
    },
    {
      "cell_type": "code",
      "metadata": {
        "colab": {
          "base_uri": "https://localhost:8080/"
        },
        "id": "7jSv69h8dhjK",
        "outputId": "97d6f613-edb0-4a92-d94e-07380be929a1"
      },
      "source": [
        "len(df_training)"
      ],
      "execution_count": 13,
      "outputs": [
        {
          "output_type": "execute_result",
          "data": {
            "text/plain": [
              "166396"
            ]
          },
          "metadata": {},
          "execution_count": 13
        }
      ]
    },
    {
      "cell_type": "markdown",
      "metadata": {
        "id": "UNvPL1qldoMQ"
      },
      "source": [
        "## Import Data"
      ]
    },
    {
      "cell_type": "code",
      "metadata": {
        "colab": {
          "base_uri": "https://localhost:8080/",
          "height": 422
        },
        "id": "SLVrPUt8dpgo",
        "outputId": "dcc6e404-483a-4bce-d17a-f58bb87391de"
      },
      "source": [
        "# df_training.to_csv(\"../data/processed/kendaraan_train_processed.csv\")\n",
        "df_training = pd.read_csv(\"https://raw.githubusercontent.com/hasandzily/Project-01_Machine-Learning/main/Data/kendaraan_train_1.csv\")\n",
        "df_training"
      ],
      "execution_count": 14,
      "outputs": [
        {
          "output_type": "execute_result",
          "data": {
            "text/html": [
              "<div>\n",
              "<style scoped>\n",
              "    .dataframe tbody tr th:only-of-type {\n",
              "        vertical-align: middle;\n",
              "    }\n",
              "\n",
              "    .dataframe tbody tr th {\n",
              "        vertical-align: top;\n",
              "    }\n",
              "\n",
              "    .dataframe thead th {\n",
              "        text-align: right;\n",
              "    }\n",
              "</style>\n",
              "<table border=\"1\" class=\"dataframe\">\n",
              "  <thead>\n",
              "    <tr style=\"text-align: right;\">\n",
              "      <th></th>\n",
              "      <th>id</th>\n",
              "      <th>Umur</th>\n",
              "      <th>Kode_Daerah</th>\n",
              "      <th>Premi</th>\n",
              "      <th>Kanal_Penjualan</th>\n",
              "      <th>Lama_Berlangganan</th>\n",
              "    </tr>\n",
              "  </thead>\n",
              "  <tbody>\n",
              "    <tr>\n",
              "      <th>0</th>\n",
              "      <td>1</td>\n",
              "      <td>30.0</td>\n",
              "      <td>33.0</td>\n",
              "      <td>28029.0</td>\n",
              "      <td>152.0</td>\n",
              "      <td>97.0</td>\n",
              "    </tr>\n",
              "    <tr>\n",
              "      <th>1</th>\n",
              "      <td>2</td>\n",
              "      <td>48.0</td>\n",
              "      <td>39.0</td>\n",
              "      <td>25800.0</td>\n",
              "      <td>29.0</td>\n",
              "      <td>158.0</td>\n",
              "    </tr>\n",
              "    <tr>\n",
              "      <th>2</th>\n",
              "      <td>4</td>\n",
              "      <td>58.0</td>\n",
              "      <td>48.0</td>\n",
              "      <td>2630.0</td>\n",
              "      <td>124.0</td>\n",
              "      <td>63.0</td>\n",
              "    </tr>\n",
              "    <tr>\n",
              "      <th>3</th>\n",
              "      <td>6</td>\n",
              "      <td>21.0</td>\n",
              "      <td>35.0</td>\n",
              "      <td>22735.0</td>\n",
              "      <td>152.0</td>\n",
              "      <td>171.0</td>\n",
              "    </tr>\n",
              "    <tr>\n",
              "      <th>4</th>\n",
              "      <td>9</td>\n",
              "      <td>20.0</td>\n",
              "      <td>8.0</td>\n",
              "      <td>30786.0</td>\n",
              "      <td>160.0</td>\n",
              "      <td>31.0</td>\n",
              "    </tr>\n",
              "    <tr>\n",
              "      <th>...</th>\n",
              "      <td>...</td>\n",
              "      <td>...</td>\n",
              "      <td>...</td>\n",
              "      <td>...</td>\n",
              "      <td>...</td>\n",
              "      <td>...</td>\n",
              "    </tr>\n",
              "    <tr>\n",
              "      <th>166391</th>\n",
              "      <td>285827</td>\n",
              "      <td>23.0</td>\n",
              "      <td>4.0</td>\n",
              "      <td>25988.0</td>\n",
              "      <td>152.0</td>\n",
              "      <td>217.0</td>\n",
              "    </tr>\n",
              "    <tr>\n",
              "      <th>166392</th>\n",
              "      <td>285828</td>\n",
              "      <td>21.0</td>\n",
              "      <td>46.0</td>\n",
              "      <td>44686.0</td>\n",
              "      <td>152.0</td>\n",
              "      <td>50.0</td>\n",
              "    </tr>\n",
              "    <tr>\n",
              "      <th>166393</th>\n",
              "      <td>285829</td>\n",
              "      <td>23.0</td>\n",
              "      <td>50.0</td>\n",
              "      <td>49751.0</td>\n",
              "      <td>152.0</td>\n",
              "      <td>226.0</td>\n",
              "    </tr>\n",
              "    <tr>\n",
              "      <th>166394</th>\n",
              "      <td>285830</td>\n",
              "      <td>68.0</td>\n",
              "      <td>7.0</td>\n",
              "      <td>30503.0</td>\n",
              "      <td>124.0</td>\n",
              "      <td>270.0</td>\n",
              "    </tr>\n",
              "    <tr>\n",
              "      <th>166395</th>\n",
              "      <td>285831</td>\n",
              "      <td>45.0</td>\n",
              "      <td>28.0</td>\n",
              "      <td>36480.0</td>\n",
              "      <td>26.0</td>\n",
              "      <td>44.0</td>\n",
              "    </tr>\n",
              "  </tbody>\n",
              "</table>\n",
              "<p>166396 rows × 6 columns</p>\n",
              "</div>"
            ],
            "text/plain": [
              "            id  Umur  Kode_Daerah    Premi  Kanal_Penjualan  Lama_Berlangganan\n",
              "0            1  30.0         33.0  28029.0            152.0               97.0\n",
              "1            2  48.0         39.0  25800.0             29.0              158.0\n",
              "2            4  58.0         48.0   2630.0            124.0               63.0\n",
              "3            6  21.0         35.0  22735.0            152.0              171.0\n",
              "4            9  20.0          8.0  30786.0            160.0               31.0\n",
              "...        ...   ...          ...      ...              ...                ...\n",
              "166391  285827  23.0          4.0  25988.0            152.0              217.0\n",
              "166392  285828  21.0         46.0  44686.0            152.0               50.0\n",
              "166393  285829  23.0         50.0  49751.0            152.0              226.0\n",
              "166394  285830  68.0          7.0  30503.0            124.0              270.0\n",
              "166395  285831  45.0         28.0  36480.0             26.0               44.0\n",
              "\n",
              "[166396 rows x 6 columns]"
            ]
          },
          "metadata": {},
          "execution_count": 14
        }
      ]
    },
    {
      "cell_type": "markdown",
      "metadata": {
        "id": "dXoiCuKLdwAC"
      },
      "source": [
        "## Atribut Umur dan Kanal Penjualan"
      ]
    },
    {
      "cell_type": "code",
      "metadata": {
        "colab": {
          "base_uri": "https://localhost:8080/"
        },
        "id": "S6pL2n_CeHZy",
        "outputId": "651b448e-e0af-4a6c-b011-e03d4bb58873"
      },
      "source": [
        "# 10m 51s Runtime\n",
        "MAX_K = 17\n",
        "data_run_history = {\n",
        "    \"data\" : \"Data Umur dan Kanal Penjualan\", \n",
        "    \"k_runs\" : {}\n",
        "}\n",
        "for i in range(1, MAX_K+1):\n",
        "    print(\"K =\", i)\n",
        "    run_data = {\n",
        "        \"points\" : None,\n",
        "        \"cluster\" : None,\n",
        "        \"inertia\" : None\n",
        "} \n",
        "model = KMeans(df_training.filter(items=[\"Umur\",\"Kanal_Penjualan\"]))\n",
        "run_data[\"cluster\"] = model.prediksi_fit(k_num=i, conv_threshold=1e-15)\n",
        "run_data[\"inertia\"] = model.inertia\n",
        "run_data[\"points\"] = model.point\n",
        "data_run_history[\"k_runs\"][i] = run_data"
      ],
      "execution_count": 15,
      "outputs": [
        {
          "output_type": "stream",
          "name": "stdout",
          "text": [
            "K = 1\n",
            "K = 2\n",
            "K = 3\n",
            "K = 4\n",
            "K = 5\n",
            "K = 6\n",
            "K = 7\n",
            "K = 8\n",
            "K = 9\n",
            "K = 10\n",
            "K = 11\n",
            "K = 12\n",
            "K = 13\n",
            "K = 14\n",
            "K = 15\n",
            "K = 16\n",
            "K = 17\n",
            "[Umur Kanal_Penjualan ]\n",
            "Langkah: 1\n",
            "Langkah: 2\n",
            "Langkah: 3\n",
            "Langkah: 4\n",
            "Langkah: 5\n",
            "Langkah: 6\n",
            "Langkah: 7\n",
            "Langkah: 8\n",
            "Langkah: 9\n",
            "Langkah: 10\n",
            "Langkah: 11\n",
            "Langkah: 12\n",
            "Langkah: 13\n",
            "Langkah: 14\n",
            "Langkah: 15\n",
            "Langkah: 16\n",
            "Langkah: 17\n",
            "Langkah: 18\n",
            "Langkah: 19\n",
            "Langkah: 20\n",
            "Adalah konvergen\n"
          ]
        }
      ]
    },
    {
      "cell_type": "code",
      "metadata": {
        "id": "aRhGtpKchsZN",
        "colab": {
          "base_uri": "https://localhost:8080/"
        },
        "outputId": "619f4d7f-2119-498b-e052-55c9896565a0"
      },
      "source": [
        "data_run_history = pickle.load(urlopen(\"https://raw.githubusercontent.com/hasandzily/Project-01_Machine-Learning/main/Data/data_umur_kanal.pckl\"))\n",
        "data_run_history"
      ],
      "execution_count": 16,
      "outputs": [
        {
          "output_type": "execute_result",
          "data": {
            "text/plain": [
              "{'data': '2 Data Kanal Penjualan dan Umur',\n",
              " 'k_runs': {1: {'cluster': array([0., 0., 0., ..., 0., 0., 0.]),\n",
              "   'inertia': 27866.962611680417,\n",
              "   'points': array([[ 38.66680689, 112.7540626 ]])},\n",
              "  2: {'cluster': array([0., 1., 0., ..., 0., 0., 1.]),\n",
              "   'inertia': 8318.173194107347,\n",
              "   'points': array([[ 34.20328834, 144.21263804],\n",
              "          [ 51.02727314,  25.63833643]])},\n",
              "  3: {'cluster': array([1., 0., 2., ..., 1., 2., 0.]),\n",
              "   'inertia': 3760.6523522718267,\n",
              "   'points': array([[ 50.99709124,  25.42822407],\n",
              "          [ 25.95379782, 151.1485044 ],\n",
              "          [ 51.3202333 , 129.712158  ]])},\n",
              "  4: {'cluster': array([3., 1., 0., ..., 3., 0., 1.]),\n",
              "   'inertia': 2642.6635598516177,\n",
              "   'points': array([[ 51.31749887, 129.73040517],\n",
              "          [ 42.3052652 ,  25.56403407],\n",
              "          [ 63.34584937,  25.28130841],\n",
              "          [ 25.95379782, 151.1485044 ]])},\n",
              "  5: {'cluster': array([4., 3., 0., ..., 4., 0., 3.]),\n",
              "   'inertia': 2349.154555132973,\n",
              "   'points': array([[ 51.31347994, 129.73834093],\n",
              "          [ 34.19620117,  25.23451327],\n",
              "          [ 67.54458838,  25.14977016],\n",
              "          [ 49.15088381,  25.71748761],\n",
              "          [ 25.95385735, 151.15015769]])},\n",
              "  6: {'cluster': array([0., 5., 3., ..., 0., 3., 5.]),\n",
              "   'inertia': 1484.2270227895083,\n",
              "   'points': array([[ 25.13795597, 152.45448807],\n",
              "          [ 67.53777927,  25.07672998],\n",
              "          [ 34.19613558,  25.22193437],\n",
              "          [ 63.5952931 , 130.39813745],\n",
              "          [ 43.00277051, 130.59538248],\n",
              "          [ 49.15154838,  25.71528204]])},\n",
              "  7: {'cluster': array([2., 6., 4., ..., 2., 1., 6.]),\n",
              "   'inertia': 1264.315054637797,\n",
              "   'points': array([[ 37.13380994,  25.36712883],\n",
              "          [ 67.02321949, 130.01874219],\n",
              "          [ 24.74144303, 152.82946741],\n",
              "          [ 68.75040909,  24.91972278],\n",
              "          [ 49.89726693, 129.59646754],\n",
              "          [ 38.06420922, 133.85921772],\n",
              "          [ 51.37946383,  25.74355083]])},\n",
              "  8: {'cluster': array([0., 6., 3., ..., 0., 3., 6.]),\n",
              "   'inertia': 1418.1861365831858,\n",
              "   'points': array([[ 25.13795597, 152.45448807],\n",
              "          [ 67.52283423,  23.79963396],\n",
              "          [ 33.01045566,  23.9179037 ],\n",
              "          [ 63.598636  , 130.60284408],\n",
              "          [ 64.10846561,  58.94444444],\n",
              "          [ 42.99709518, 130.75559333],\n",
              "          [ 48.77281443,  24.32916412],\n",
              "          [ 43.84657321,  58.98208723]])},\n",
              "  9: {'cluster': array([5., 4., 8., ..., 3., 6., 4.]),\n",
              "   'inertia': 993.215563733491,\n",
              "   'points': array([[ 39.50727013, 123.66589119],\n",
              "          [ 33.01090582,  24.10277136],\n",
              "          [ 66.92964706,  24.85317647],\n",
              "          [ 24.02794922, 152.66448742],\n",
              "          [ 48.41310748,  24.32813986],\n",
              "          [ 35.52470604, 154.24638075],\n",
              "          [ 68.50825826, 129.14151652],\n",
              "          [ 46.8361204 ,  58.18528428],\n",
              "          [ 52.54604082, 131.29791902]])},\n",
              "  10: {'cluster': array([2., 6., 0., ..., 2., 0., 6.]),\n",
              "   'inertia': 881.5444752148542,\n",
              "   'points': array([[ 66.12349284, 130.83562547],\n",
              "          [ 31.95995271,  24.08541451],\n",
              "          [ 24.67517644, 152.8731469 ],\n",
              "          [ 71.77398256,  25.25203488],\n",
              "          [ 46.07223001,  57.67461431],\n",
              "          [ 41.7993981 , 154.99971786],\n",
              "          [ 46.10483242,  24.27914486],\n",
              "          [ 58.26657021,  24.5578262 ],\n",
              "          [ 36.89872939, 123.72129784],\n",
              "          [ 48.69841171, 123.81278139]])},\n",
              "  11: {'cluster': array([1., 0., 2., ..., 1., 2., 9.]),\n",
              "   'inertia': 813.9259093682725,\n",
              "   'points': array([[ 49.71833415,  24.45909315],\n",
              "          [ 24.67517644, 152.8731469 ],\n",
              "          [ 66.12349284, 130.83562547],\n",
              "          [ 48.69737336, 123.81719825],\n",
              "          [ 46.15087719,  57.89754386],\n",
              "          [ 27.54672771,  24.35658497],\n",
              "          [ 71.82557118,  25.10735208],\n",
              "          [ 41.7993981 , 154.99971786],\n",
              "          [ 36.89872939, 123.72129784],\n",
              "          [ 41.29099866,  23.98065383],\n",
              "          [ 59.56546468,  24.67819361]])},\n",
              "  12: {'cluster': array([ 8.,  0., 11., ...,  2.,  7.,  0.]),\n",
              "   'inertia': 645.7102004047363,\n",
              "   'points': array([[ 45.33492605,  24.23219568],\n",
              "          [ 51.92923824, 155.21023152],\n",
              "          [ 24.02875146, 153.26313497],\n",
              "          [ 71.21269503,  25.10708094],\n",
              "          [ 43.76554714, 123.66006601],\n",
              "          [ 30.92216381,  24.11853485],\n",
              "          [ 32.6588729 , 123.79436451],\n",
              "          [ 69.81434346, 128.42790837],\n",
              "          [ 34.57354371, 154.11298886],\n",
              "          [ 46.05338078,  57.10320285],\n",
              "          [ 57.23981862,  24.61396304],\n",
              "          [ 55.02327421, 123.49101796]])},\n",
              "  13: {'cluster': array([ 0.,  7.,  9., ...,  0.,  3., 10.]),\n",
              "   'inertia': 681.8285142531556,\n",
              "   'points': array([[ 24.40188012, 153.27785355],\n",
              "          [ 73.05613577,  23.81648639],\n",
              "          [ 27.52544667,  24.18976719],\n",
              "          [ 69.7518931 , 128.87512992],\n",
              "          [ 44.22781775,  56.92486011],\n",
              "          [ 31.79142622, 123.85998901],\n",
              "          [ 38.0901896 , 154.69542529],\n",
              "          [ 51.08181311,  24.47972596],\n",
              "          [ 64.25598802,  58.53892216],\n",
              "          [ 55.11122228, 132.03543438],\n",
              "          [ 41.87650342,  24.01226319],\n",
              "          [ 43.40207366, 123.57743083],\n",
              "          [ 61.58060005,  23.94635139]])},\n",
              "  14: {'cluster': array([11., 13., 10., ...,  1., 10., 13.]),\n",
              "   'inertia': 596.3654296623538,\n",
              "   'points': array([[ 58.89224448,  24.14668721],\n",
              "          [ 23.78791091, 152.8923576 ],\n",
              "          [ 63.0864371 , 154.74560787],\n",
              "          [ 26.79053647,  24.37070524],\n",
              "          [ 47.72952573, 123.64257696],\n",
              "          [ 65.61588331,  56.83306321],\n",
              "          [ 36.03352474, 123.71862861],\n",
              "          [ 71.85000766,  23.69541903],\n",
              "          [ 45.88174672, 155.210131  ],\n",
              "          [ 40.41075573,  23.81767733],\n",
              "          [ 66.06019529, 123.47558874],\n",
              "          [ 32.43332149, 153.75296625],\n",
              "          [ 44.65167683,  57.49085366],\n",
              "          [ 48.74491566,  24.4778496 ]])},\n",
              "  15: {'cluster': array([ 7., 11., 13., ..., 14.,  5., 11.]),\n",
              "   'inertia': 487.67271244697076,\n",
              "   'points': array([[ 45.88980091, 155.20206078],\n",
              "          [ 25.54652015,  24.68754579],\n",
              "          [ 74.24920055,  24.93924166],\n",
              "          [ 31.79130554, 123.83312698],\n",
              "          [ 46.2208246 ,  57.13626834],\n",
              "          [ 69.94317783, 123.89214311],\n",
              "          [ 54.57277297,  24.41289702],\n",
              "          [ 32.4480057 , 153.74465812],\n",
              "          [ 37.9015544 ,  23.31716125],\n",
              "          [ 62.60673746, 154.88978396],\n",
              "          [ 43.37710071, 123.63644058],\n",
              "          [ 46.02799449,  24.50405385],\n",
              "          [ 64.2298441 ,  25.07023014],\n",
              "          [ 55.00632554, 123.51654806],\n",
              "          [ 23.80632881, 153.28964451]])}}}"
            ]
          },
          "metadata": {},
          "execution_count": 16
        }
      ]
    },
    {
      "cell_type": "markdown",
      "metadata": {
        "id": "eOGXIVquiDGS"
      },
      "source": [
        "### Mencari Nilai K Terbaik dengan Elbow Method"
      ]
    },
    {
      "cell_type": "code",
      "metadata": {
        "id": "ljjEXE07iKiv",
        "colab": {
          "base_uri": "https://localhost:8080/",
          "height": 585
        },
        "outputId": "73036c75-9cdd-4c88-c9b0-cbf3e030c24f"
      },
      "source": [
        "plt.figure(figsize=(9,9))\n",
        "plt.plot([i for i in data_run_history[\"k_runs\"].keys()], [ data_run_history[\"k_runs\"][i][\"inertia\"] for i in data_run_history[\"k_runs\"].keys()], 'bx-')\n",
        "plt.xlabel(\"K Values\")\n",
        "plt.ylabel(\"Inertia Values\")\n",
        "plt.title(\"Performance on K Values\")"
      ],
      "execution_count": 19,
      "outputs": [
        {
          "output_type": "execute_result",
          "data": {
            "text/plain": [
              "Text(0.5, 1.0, 'Performance on K Values')"
            ]
          },
          "metadata": {},
          "execution_count": 19
        },
        {
          "output_type": "display_data",
          "data": {
            "image/png": "[encoded data removed]",
            "text/plain": [
              "<Figure size 648x648 with 1 Axes>"
            ]
          },
          "metadata": {
            "needs_background": "light"
          }
        }
      ]
    },
    {
      "cell_type": "markdown",
      "metadata": {
        "id": "Q5oXfCHiiShA"
      },
      "source": [
        "Nilai K Terbaik = 3"
      ]
    },
    {
      "cell_type": "code",
      "metadata": {
        "id": "tqgERFe_iWKu",
        "colab": {
          "base_uri": "https://localhost:8080/",
          "height": 422
        },
        "outputId": "07afab9b-00b2-4b36-b626-9e1dec5795bb"
      },
      "source": [
        "df_processing = df_training.copy()\n",
        "df_processing = df_processing.filter(items=[\"Umur\", \"Kanal_Penjualan\"])\n",
        "df_processing[\"Cluster\"] = data_run_history[\"k_runs\"]][3[\"cluster\"]\n",
        "df_processing"
      ],
      "execution_count": 22,
      "outputs": [
        {
          "output_type": "execute_result",
          "data": {
            "text/html": [
              "<div>\n",
              "<style scoped>\n",
              "    .dataframe tbody tr th:only-of-type {\n",
              "        vertical-align: middle;\n",
              "    }\n",
              "\n",
              "    .dataframe tbody tr th {\n",
              "        vertical-align: top;\n",
              "    }\n",
              "\n",
              "    .dataframe thead th {\n",
              "        text-align: right;\n",
              "    }\n",
              "</style>\n",
              "<table border=\"1\" class=\"dataframe\">\n",
              "  <thead>\n",
              "    <tr style=\"text-align: right;\">\n",
              "      <th></th>\n",
              "      <th>Umur</th>\n",
              "      <th>Kanal_Penjualan</th>\n",
              "      <th>Cluster</th>\n",
              "    </tr>\n",
              "  </thead>\n",
              "  <tbody>\n",
              "    <tr>\n",
              "      <th>0</th>\n",
              "      <td>30.0</td>\n",
              "      <td>152.0</td>\n",
              "      <td>1.0</td>\n",
              "    </tr>\n",
              "    <tr>\n",
              "      <th>1</th>\n",
              "      <td>48.0</td>\n",
              "      <td>29.0</td>\n",
              "      <td>0.0</td>\n",
              "    </tr>\n",
              "    <tr>\n",
              "      <th>2</th>\n",
              "      <td>58.0</td>\n",
              "      <td>124.0</td>\n",
              "      <td>2.0</td>\n",
              "    </tr>\n",
              "    <tr>\n",
              "      <th>3</th>\n",
              "      <td>21.0</td>\n",
              "      <td>152.0</td>\n",
              "      <td>1.0</td>\n",
              "    </tr>\n",
              "    <tr>\n",
              "      <th>4</th>\n",
              "      <td>20.0</td>\n",
              "      <td>160.0</td>\n",
              "      <td>1.0</td>\n",
              "    </tr>\n",
              "    <tr>\n",
              "      <th>...</th>\n",
              "      <td>...</td>\n",
              "      <td>...</td>\n",
              "      <td>...</td>\n",
              "    </tr>\n",
              "    <tr>\n",
              "      <th>166391</th>\n",
              "      <td>23.0</td>\n",
              "      <td>152.0</td>\n",
              "      <td>1.0</td>\n",
              "    </tr>\n",
              "    <tr>\n",
              "      <th>166392</th>\n",
              "      <td>21.0</td>\n",
              "      <td>152.0</td>\n",
              "      <td>1.0</td>\n",
              "    </tr>\n",
              "    <tr>\n",
              "      <th>166393</th>\n",
              "      <td>23.0</td>\n",
              "      <td>152.0</td>\n",
              "      <td>1.0</td>\n",
              "    </tr>\n",
              "    <tr>\n",
              "      <th>166394</th>\n",
              "      <td>68.0</td>\n",
              "      <td>124.0</td>\n",
              "      <td>2.0</td>\n",
              "    </tr>\n",
              "    <tr>\n",
              "      <th>166395</th>\n",
              "      <td>45.0</td>\n",
              "      <td>26.0</td>\n",
              "      <td>0.0</td>\n",
              "    </tr>\n",
              "  </tbody>\n",
              "</table>\n",
              "<p>166396 rows × 3 columns</p>\n",
              "</div>"
            ],
            "text/plain": [
              "        Umur  Kanal_Penjualan  Cluster\n",
              "0       30.0            152.0      1.0\n",
              "1       48.0             29.0      0.0\n",
              "2       58.0            124.0      2.0\n",
              "3       21.0            152.0      1.0\n",
              "4       20.0            160.0      1.0\n",
              "...      ...              ...      ...\n",
              "166391  23.0            152.0      1.0\n",
              "166392  21.0            152.0      1.0\n",
              "166393  23.0            152.0      1.0\n",
              "166394  68.0            124.0      2.0\n",
              "166395  45.0             26.0      0.0\n",
              "\n",
              "[166396 rows x 3 columns]"
            ]
          },
          "metadata": {},
          "execution_count": 22
        }
      ]
    },
    {
      "cell_type": "markdown",
      "metadata": {
        "id": "7V1uhgkfiisG"
      },
      "source": [
        "### Silhouette Score"
      ]
    },
    {
      "cell_type": "code",
      "metadata": {
        "id": "x4-3Mww5ik3V",
        "colab": {
          "base_uri": "https://localhost:8080/"
        },
        "outputId": "064bd7a2-7439-4616-86e5-84fb1ebb2673"
      },
      "source": [
        "# 7m Runtime\n",
        "X = df_processing.filter(items=[\"Umur\", \"Kanal_Penjualan\"])\n",
        "y = df_processing[\"Cluster\"]\n",
        "sil_sample = silhouette_samples(X, y)\n",
        "sil_sample"
      ],
      "execution_count": 23,
      "outputs": [
        {
          "output_type": "execute_result",
          "data": {
            "text/plain": [
              "array([0.76436912, 0.86902934, 0.62644537, ..., 0.83926655, 0.56977806,\n",
              "       0.87456553])"
            ]
          },
          "metadata": {},
          "execution_count": 23
        }
      ]
    },
    {
      "cell_type": "code",
      "metadata": {
        "colab": {
          "base_uri": "https://localhost:8080/",
          "height": 549
        },
        "id": "5iZ5quxJOFhZ",
        "outputId": "8655f58e-9474-45e9-ef17-bc1f8f4d987f"
      },
      "source": [
        "import statistics\n",
        "n_clusters = len(df_processing[\"Cluster\"].unique())\n",
        "fig = plt.figure()\n",
        "ax = plt.axes()\n",
        "ax.tick_params(left=False, labelleft=False)\n",
        "fig.set_size_inches(10, 7)\n",
        "ax.set_xlim([-0.4, 1])\n",
        "ax.set_ylim([0, len(X) + (n_clusters + 1) * 10])\n",
        "ax.set_title(\"Silhouette Score Across All Clustered Data\")\n",
        "ax.set_xlabel(\"Silhouette Score\")\n",
        "y_lower = 10\n",
        "sil_total = 0\n",
        "for i in range(n_clusters):\n",
        "    ith_cluster_silhouette_values = \\\n",
        "            sil_sample[df_processing[\"Cluster\"] == i]\n",
        "    print(\"rata-rata silhouette cluster\",i, \":\" , statistics.mean(ith_cluster_silhouette_values))\n",
        "    sil_total += statistics.mean(ith_cluster_silhouette_values)\n",
        "    ith_cluster_silhouette_values.sort()\n",
        "    size_cluster_i = ith_cluster_silhouette_values.shape[0]\n",
        "    y_upper = y_lower + size_cluster_i\n",
        "    color = cm.nipy_spectral(float(i) / n_clusters)\n",
        "    ax.fill_betweenx(np.arange(y_lower, y_upper),\n",
        "                      0, ith_cluster_silhouette_values,\n",
        "                      facecolor=color, edgecolor=color, alpha=0.7)\n",
        "    # Memberi label pada silhouette plots dengan cluster numbers di bagian tengah\n",
        "    ax.text(-0.05, y_lower + 0.5 * size_cluster_i, str(i))\n",
        "    # Menghitung y_lower yang baru untuk plot selanjutnya\n",
        "    y_lower = y_upper + 10\n",
        "print(\"rata-rata silhouette :\", (sil_total/n_clusters) )\n",
        "ax.axvline(x=(sil_total/n_clusters), color=\"red\", linestyle=\"--\")"
      ],
      "execution_count": 24,
      "outputs": [
        {
          "output_type": "stream",
          "name": "stdout",
          "text": [
            "rata-rata silhouette cluster 0 : 0.8257767814719873\n",
            "rata-rata silhouette cluster 1 : 0.7202374958910577\n",
            "rata-rata silhouette cluster 2 : 0.4340254817554069\n",
            "rata-rata silhouette : 0.6600132530394839\n"
          ]
        },
        {
          "output_type": "execute_result",
          "data": {
            "text/plain": [
              "<matplotlib.lines.Line2D at 0x7f503cb2a510>"
            ]
          },
          "metadata": {},
          "execution_count": 24
        },
        {
          "output_type": "display_data",
          "data": {
            "image/png": "[encoded data removed]",
            "text/plain": [
              "<Figure size 720x504 with 1 Axes>"
            ]
          },
          "metadata": {
            "needs_background": "light"
          }
        }
      ]
    },
    {
      "cell_type": "markdown",
      "metadata": {
        "id": "k8qkdK4Zn1r_"
      },
      "source": [
        "### Scatter Plot Clustering"
      ]
    },
    {
      "cell_type": "code",
      "metadata": {
        "colab": {
          "base_uri": "https://localhost:8080/",
          "height": 639
        },
        "id": "6E0KbevgnxME",
        "outputId": "5ec601d6-9ab8-401a-c83b-b9c9832c3073"
      },
      "source": [
        "fig, ax = plt.subplots()\n",
        "fig.set_size_inches((10,10))\n",
        "ax.scatter(df_processing[\"Umur\"], df_processing[\"Kanal_Penjualan\"], c=df_processing[\"Cluster\"], cmap=\"tab20c\")\n",
        "ax.scatter(data_run_history[\"k_runs\"][3][\"points\"][:, 0], data_run_history[\"k_runs\"][3][\"points\"][:, 1], color=\"red\")\n",
        "for i in range(len(data_run_history[\"k_runs\"][3][\"points\"])):\n",
        "    ax.text(data_run_history[\"k_runs\"][3][\"points\"][i, 0]+2, data_run_history[\"k_runs\"][3][\"points\"][i, 1]+2, str(i), color=\"red\", fontsize = 15)\n",
        "ax.set_xlabel(\"Umur\")\n",
        "ax.set_ylabel(\"Kanal_Penjualan\")\n",
        "ax.set_title(\"Scatter Plot Clustering\")"
      ],
      "execution_count": 25,
      "outputs": [
        {
          "output_type": "execute_result",
          "data": {
            "text/plain": [
              "Text(0.5, 1.0, 'Scatter Plot Clustering')"
            ]
          },
          "metadata": {},
          "execution_count": 25
        },
        {
          "output_type": "display_data",
          "data": {
            "image/png": "[encoded data removed]",
            "text/plain": [
              "<Figure size 720x720 with 1 Axes>"
            ]
          },
          "metadata": {
            "needs_background": "light"
          }
        }
      ]
    },
    {
      "cell_type": "markdown",
      "metadata": {
        "id": "GDkiap6MoLse"
      },
      "source": [
        "## Atribut Umur dan Lama Berlangganan"
      ]
    },
    {
      "cell_type": "code",
      "metadata": {
        "colab": {
          "base_uri": "https://localhost:8080/"
        },
        "id": "U8HOf87polzZ",
        "outputId": "80b9a9e6-9eeb-46b2-b3fd-87cfa46525a4"
      },
      "source": [
        "# 23m Runtime\n",
        "MAX_K = 17\n",
        "data_run_history = {\n",
        "    \"data\" : \"Data Umur dan Lama Berlangganan\", \n",
        "    \"k_runs\" : {}\n",
        "}\n",
        "for i in range(1, MAX_K+1):\n",
        "    print(\"K =\", i)\n",
        "    run_data = {\n",
        "        \"points\" : None,\n",
        "        \"cluster\" : None,\n",
        "        \"inertia\" : None\n",
        "}\n",
        "model = KMeans(df_training.filter(items=[\"Umur\",\"Lama_Berlangganan\"]))\n",
        "run_data[\"cluster\"] = model.prediksi_fit(k_num=i, conv_threshold=1e-15)\n",
        "run_data[\"inertia\"] = model.inertia\n",
        "run_data[\"points\"] = model.point\n",
        "data_run_history[\"k_runs\"][i] = run_data"
      ],
      "execution_count": 26,
      "outputs": [
        {
          "output_type": "stream",
          "name": "stdout",
          "text": [
            "K = 1\n",
            "K = 2\n",
            "K = 3\n",
            "K = 4\n",
            "K = 5\n",
            "K = 6\n",
            "K = 7\n",
            "K = 8\n",
            "K = 9\n",
            "K = 10\n",
            "K = 11\n",
            "K = 12\n",
            "K = 13\n",
            "K = 14\n",
            "K = 15\n",
            "K = 16\n",
            "K = 17\n",
            "[Umur Lama_Berlangganan ]\n",
            "Langkah: 1\n",
            "Langkah: 2\n",
            "Langkah: 3\n",
            "Langkah: 4\n",
            "Langkah: 5\n",
            "Langkah: 6\n",
            "Langkah: 7\n",
            "Langkah: 8\n",
            "Langkah: 9\n",
            "Langkah: 10\n",
            "Langkah: 11\n",
            "Langkah: 12\n",
            "Langkah: 13\n",
            "Langkah: 14\n",
            "Langkah: 15\n",
            "Langkah: 16\n",
            "Langkah: 17\n",
            "Langkah: 18\n",
            "Langkah: 19\n",
            "Langkah: 20\n",
            "Langkah: 21\n",
            "Langkah: 22\n",
            "Langkah: 23\n",
            "Langkah: 24\n",
            "Langkah: 25\n",
            "Langkah: 26\n",
            "Langkah: 27\n",
            "Langkah: 28\n",
            "Langkah: 29\n",
            "Langkah: 30\n",
            "Langkah: 31\n",
            "Langkah: 32\n",
            "Langkah: 33\n",
            "Langkah: 34\n",
            "Langkah: 35\n",
            "Langkah: 36\n",
            "Langkah: 37\n",
            "Langkah: 38\n",
            "Langkah: 39\n",
            "Langkah: 40\n",
            "Langkah: 41\n",
            "Langkah: 42\n",
            "Langkah: 43\n",
            "Langkah: 44\n",
            "Langkah: 45\n",
            "Langkah: 46\n",
            "Langkah: 47\n",
            "Langkah: 48\n",
            "Langkah: 49\n",
            "Langkah: 50\n",
            "Langkah: 51\n",
            "Langkah: 52\n",
            "Adalah konvergen\n"
          ]
        }
      ]
    },
    {
      "cell_type": "code",
      "metadata": {
        "colab": {
          "base_uri": "https://localhost:8080/"
        },
        "id": "6uhScAy8uJgf",
        "outputId": "56ae9bf0-e0d5-4518-ac28-3deb3b264996"
      },
      "source": [
        "data_run_history = pickle.load(urlopen(\"https://raw.githubusercontent.com/hasandzily/Project-01_Machine-Learning/main/Data/data_umur_berlangganan.pckl\"))\n",
        "data_run_history"
      ],
      "execution_count": 27,
      "outputs": [
        {
          "output_type": "execute_result",
          "data": {
            "text/plain": [
              "{'data': '2 Data Lama Berlangganan dan Umur',\n",
              " 'k_runs': {1: {'cluster': array([0., 0., 0., ..., 0., 0., 0.]),\n",
              "   'inertia': 23420.36168853923,\n",
              "   'points': array([[ 38.66680689, 154.30959879]])},\n",
              "  2: {'cluster': array([0., 1., 0., ..., 1., 1., 0.]),\n",
              "   'inertia': 12911.469345241725,\n",
              "   'points': array([[ 38.6688567 ,  81.86455736],\n",
              "          [ 38.66474671, 227.1212826 ]])},\n",
              "  3: {'cluster': array([1., 0., 0., ..., 2., 0., 1.]),\n",
              "   'inertia': 8628.502703498556,\n",
              "   'points': array([[ 59.82436709, 156.75917227],\n",
              "          [ 32.11226192,  76.41980167],\n",
              "          [ 31.62763946, 231.99966356]])},\n",
              "  4: {'cluster': array([0., 1., 3., ..., 2., 1., 3.]),\n",
              "   'inertia': 5975.9905442558875,\n",
              "   'points': array([[ 27.70841246,  82.10065053],\n",
              "          [ 54.01300753, 227.06199035],\n",
              "          [ 27.16455003, 227.2636423 ],\n",
              "          [ 54.6979044 ,  81.66567577]])},\n",
              "  5: {'cluster': array([0., 4., 2., ..., 3., 1., 2.]),\n",
              "   'inertia': 5052.261431149806,\n",
              "   'points': array([[ 26.69372037,  77.94221223],\n",
              "          [ 56.49461574, 243.3340564 ],\n",
              "          [ 56.35542804,  64.46207597],\n",
              "          [ 26.68936445, 230.99824261],\n",
              "          [ 45.16088014, 153.7768964 ]])},\n",
              "  6: {'cluster': array([2., 4., 1., ..., 0., 3., 1.]),\n",
              "   'inertia': 4008.28073986212,\n",
              "   'points': array([[ 28.68717216, 253.24895093],\n",
              "          [ 57.57930764,  64.8335804 ],\n",
              "          [ 28.3509086 ,  55.79903321],\n",
              "          [ 58.29786857, 241.67979794],\n",
              "          [ 46.92251745, 153.79609855],\n",
              "          [ 25.51755584, 154.27320855]])},\n",
              "  7: {'cluster': array([3., 4., 1., ..., 6., 2., 1.]),\n",
              "   'inertia': 3331.707609556493,\n",
              "   'points': array([[ 25.48304635, 152.84103525],\n",
              "          [ 56.81840479,  58.14621952],\n",
              "          [ 66.94753625, 212.68195278],\n",
              "          [ 27.86571028,  55.19834711],\n",
              "          [ 46.17305948, 141.81270403],\n",
              "          [ 46.04872146, 249.74242009],\n",
              "          [ 25.48766234, 250.81493506]])},\n",
              "  8: {'cluster': array([0., 4., 2., ..., 3., 7., 5.]),\n",
              "   'inertia': 2764.0442297654595,\n",
              "   'points': array([[ 25.50841568,  58.030767  ],\n",
              "          [ 45.50752109, 252.45096046],\n",
              "          [ 66.15091476,  79.97546581],\n",
              "          [ 25.48546512, 251.7824919 ],\n",
              "          [ 46.83345659, 153.99610511],\n",
              "          [ 45.4493057 ,  55.86435573],\n",
              "          [ 25.708158  , 155.00933555],\n",
              "          [ 66.31300403, 227.92683132]])},\n",
              "  9: {'cluster': array([1., 0., 2., ..., 3., 6., 4.]),\n",
              "   'inertia': 2504.67090740436,\n",
              "   'points': array([[ 44.8225122 , 157.48079779],\n",
              "          [ 25.4532921 ,  56.70995268],\n",
              "          [ 64.85431197,  55.22606   ],\n",
              "          [ 25.47976315, 250.85514677],\n",
              "          [ 44.88297653,  59.37196377],\n",
              "          [ 25.33663511, 152.71373223],\n",
              "          [ 65.12870243, 248.52946137],\n",
              "          [ 64.77933052, 150.0173329 ],\n",
              "          [ 45.11430583, 252.57391163]])},\n",
              "  10: {'cluster': array([9., 4., 3., ..., 8., 0., 7.]),\n",
              "   'inertia': 2156.1821675753667,\n",
              "   'points': array([[ 65.40743982, 249.82592998],\n",
              "          [ 25.55209155,  44.56550908],\n",
              "          [ 25.51064869, 264.04870066],\n",
              "          [ 65.37615622,  56.80507023],\n",
              "          [ 45.18573132, 155.44741407],\n",
              "          [ 45.26601849, 251.34348103],\n",
              "          [ 64.8326369 , 151.47031009],\n",
              "          [ 45.30662954,  57.68039504],\n",
              "          [ 25.54303288, 190.96929264],\n",
              "          [ 25.73004429, 116.71053624]])},\n",
              "  11: {'cluster': array([ 6.,  4.,  1., ..., 10.,  2.,  8.]),\n",
              "   'inertia': 1930.0912641315292,\n",
              "   'points': array([[ 25.42291495, 188.92347161],\n",
              "          [ 65.31328293,  57.62555016],\n",
              "          [ 65.46721033, 250.7982784 ],\n",
              "          [ 25.51200079,  44.96506161],\n",
              "          [ 45.47813813, 192.20002754],\n",
              "          [ 45.19890796, 264.18323642],\n",
              "          [ 25.49384164, 116.42536657],\n",
              "          [ 65.57660298, 154.0581409 ],\n",
              "          [ 45.13552987,  45.17609192],\n",
              "          [ 45.42095975, 118.65784294],\n",
              "          [ 25.48688462, 262.59228284]])},\n",
              "  12: {'cluster': array([9., 0., 6., ..., 4., 3., 7.]),\n",
              "   'inertia': 1806.3464433466834,\n",
              "   'points': array([[ 45.85029899, 116.68829473],\n",
              "          [ 25.4668282 , 263.29416041],\n",
              "          [ 25.51200079,  44.96506161],\n",
              "          [ 66.65501105, 254.52320291],\n",
              "          [ 24.63374271, 189.55802456],\n",
              "          [ 45.31488687, 264.89061824],\n",
              "          [ 64.94861846,  54.50946502],\n",
              "          [ 44.95180552,  44.78696332],\n",
              "          [ 67.59016393, 145.86745131],\n",
              "          [ 25.47139924, 116.43644275],\n",
              "          [ 39.91662858, 190.03921748],\n",
              "          [ 53.32715304, 193.66099835]])},\n",
              "  13: {'cluster': array([ 9.,  4.,  3., ..., 10.,  1.,  7.]),\n",
              "   'inertia': 1660.009557287875,\n",
              "   'points': array([[ 25.22259383,  38.53171064],\n",
              "          [ 65.82824013, 253.53182752],\n",
              "          [ 25.16482556, 270.66466954],\n",
              "          [ 66.08601752,  54.85141306],\n",
              "          [ 42.57943445, 152.59365895],\n",
              "          [ 24.83773391, 155.06280441],\n",
              "          [ 44.44983089, 269.26799807],\n",
              "          [ 44.40051964,  39.9791355 ],\n",
              "          [ 65.84265941, 155.29007453],\n",
              "          [ 25.88209454,  96.84121127],\n",
              "          [ 25.77730941, 212.90732265],\n",
              "          [ 48.28689099,  98.87066246],\n",
              "          [ 47.45675176, 209.29249244]])},\n",
              "  14: {'cluster': array([12.,  9.,  8., ...,  2.,  1., 10.]),\n",
              "   'inertia': 1591.1909768920038,\n",
              "   'points': array([[ 41.56200858, 117.65117941],\n",
              "          [ 69.29183188, 258.15979381],\n",
              "          [ 24.74877128, 262.69056858],\n",
              "          [ 69.7915835 ,  62.91051231],\n",
              "          [ 24.78422211,  45.02540143],\n",
              "          [ 40.49420103, 263.70452872],\n",
              "          [ 67.44094001, 173.43939394],\n",
              "          [ 25.14788487, 189.0356415 ],\n",
              "          [ 53.01005309,  47.07940811],\n",
              "          [ 44.29807545, 190.14136246],\n",
              "          [ 40.27940602,  45.34925752],\n",
              "          [ 55.07419836, 127.57208551],\n",
              "          [ 24.99948398, 116.45827958],\n",
              "          [ 53.45181052, 253.79017613]])},\n",
              "  15: {'cluster': array([ 5.,  4.,  0., ..., 12.,  2., 13.]),\n",
              "   'inertia': 1490.2597053379807,\n",
              "   'points': array([[ 53.525459  ,  47.90575275],\n",
              "          [ 24.72880897, 264.58576613],\n",
              "          [ 68.62874459, 254.37800866],\n",
              "          [ 24.85326309,  46.61241817],\n",
              "          [ 40.70079636, 173.08883201],\n",
              "          [ 24.9131755 , 120.11760165],\n",
              "          [ 69.37238874, 161.46030881],\n",
              "          [ 41.47631553, 102.60042797],\n",
              "          [ 51.21104944, 271.63237382],\n",
              "          [ 39.45685957, 254.21431976],\n",
              "          [ 69.57037168,  59.40672891],\n",
              "          [ 54.29732384, 127.67935183],\n",
              "          [ 24.78427865, 192.77701778],\n",
              "          [ 40.77690781,  38.81914424],\n",
              "          [ 52.40824453, 205.2130226 ]])}}}"
            ]
          },
          "metadata": {},
          "execution_count": 27
        }
      ]
    },
    {
      "cell_type": "markdown",
      "metadata": {
        "id": "UqOE_8nzuTeE"
      },
      "source": [
        "### Mencari Nilai K Terbaik dengan Elbow Method"
      ]
    },
    {
      "cell_type": "code",
      "metadata": {
        "colab": {
          "base_uri": "https://localhost:8080/",
          "height": 585
        },
        "id": "vzE4eNniuWFm",
        "outputId": "b2d219c7-304c-4e1a-a4bd-9b1f6d1ead23"
      },
      "source": [
        "plt.figure(figsize=(9,9))\n",
        "plt.plot([i for i in data_run_history[\"k_runs\"].keys()], [ data_run_history[\"k_runs\"][i][\"inertia\"] for i in data_run_history[\"k_runs\"].keys()], 'bx-')\n",
        "plt.xlabel(\"K Values\")\n",
        "plt.ylabel(\"Inertia Values\")\n",
        "plt.title(\"Performance on K Values\")"
      ],
      "execution_count": 30,
      "outputs": [
        {
          "output_type": "execute_result",
          "data": {
            "text/plain": [
              "Text(0.5, 1.0, 'Performance on K Values')"
            ]
          },
          "metadata": {},
          "execution_count": 30
        },
        {
          "output_type": "display_data",
          "data": {
            "image/png": "[encoded data removed]",
            "text/plain": [
              "<Figure size 648x648 with 1 Axes>"
            ]
          },
          "metadata": {
            "needs_background": "light"
          }
        }
      ]
    },
    {
      "cell_type": "markdown",
      "metadata": {
        "id": "ManQuL2lumN7"
      },
      "source": [
        "Nilai K Terbaik = 4"
      ]
    },
    {
      "cell_type": "markdown",
      "metadata": {
        "id": "2V2w_IIXvBVC"
      },
      "source": [
        "### Silhouette Score"
      ]
    },
    {
      "cell_type": "code",
      "metadata": {
        "colab": {
          "base_uri": "https://localhost:8080/",
          "height": 567
        },
        "id": "a57BCWOsuyWH",
        "outputId": "a314baa6-cd15-41c6-f23f-c94ff6369365"
      },
      "source": [
        "# 7m Runtime\n",
        "import statistics\n",
        "df_processing = df_training.copy()\n",
        "df_processing = df_processing.filter(items=[\"id\", \"Umur\", \"Lama_Berlangganan\"])\n",
        "df_processing[\"Cluster\"] = data_run_history[\"k_runs\"][4][\"cluster\"]\n",
        "X = df_processing.filter(items=[\"Umur\", \"Lama_Berlangganan\"])\n",
        "y = df_processing[\"Cluster\"]\n",
        "sil_sample = silhouette_samples(X, y)\n",
        "n_clusters = len(df_processing[\"Cluster\"].unique())\n",
        "fig = plt.figure()\n",
        "ax = plt.axes()\n",
        "ax.tick_params(left=False, labelleft=False)\n",
        "fig.set_size_inches(10, 7)\n",
        "ax.set_xlim([-0.4, 1])\n",
        "ax.set_ylim([0, len(X) + (n_clusters + 1) * 10])\n",
        "ax.set_title(\"Silhouette Score Across All Clustered Data\")\n",
        "ax.set_xlabel(\"Silhouette Score\")\n",
        "y_lower = 10\n",
        "sil_total = 0\n",
        "for i in range(n_clusters):\n",
        "    ith_cluster_silhouette_values = \\\n",
        "            sil_sample[df_processing[\"Cluster\"] == i]\n",
        "    print(\"rata-rata silhouette cluster\",i, \":\" , statistics.mean(ith_cluster_silhouette_values))\n",
        "    sil_total += statistics.mean(ith_cluster_silhouette_values)\n",
        "    ith_cluster_silhouette_values.sort()\n",
        "    size_cluster_i = ith_cluster_silhouette_values.shape[0]\n",
        "    y_upper = y_lower + size_cluster_i\n",
        "    color = cm.nipy_spectral(float(i) / n_clusters)\n",
        "    ax.fill_betweenx(np.arange(y_lower, y_upper),\n",
        "                      0, ith_cluster_silhouette_values,\n",
        "                      facecolor=color, edgecolor=color, alpha=0.7)\n",
        "    # Memberi label pada silhouette plots dengan cluster numbers di bagian tengah\n",
        "    ax.text(-0.05, y_lower + 0.5 * size_cluster_i, str(i))\n",
        "    # Menghitung y_lower yang baru untuk plot selanjutnya\n",
        "    y_lower = y_upper + 10\n",
        "print(\"rata-rata silhouette :\", (sil_total/n_clusters) )\n",
        "ax.axvline(x=(sil_total/n_clusters), color=\"red\", linestyle=\"--\")"
      ],
      "execution_count": 31,
      "outputs": [
        {
          "output_type": "stream",
          "name": "stdout",
          "text": [
            "rata-rata silhouette cluster 0 : 0.15913907024846893\n",
            "rata-rata silhouette cluster 1 : 0.12296653748657319\n",
            "rata-rata silhouette cluster 2 : 0.16131818623457847\n",
            "rata-rata silhouette cluster 3 : 0.12418999939000122\n",
            "rata-rata silhouette : 0.14190344833990545\n"
          ]
        },
        {
          "output_type": "execute_result",
          "data": {
            "text/plain": [
              "<matplotlib.lines.Line2D at 0x7f503c9ece10>"
            ]
          },
          "metadata": {},
          "execution_count": 31
        },
        {
          "output_type": "display_data",
          "data": {
            "image/png": "[encoded data removed]",
            "text/plain": [
              "<Figure size 720x504 with 1 Axes>"
            ]
          },
          "metadata": {
            "needs_background": "light"
          }
        }
      ]
    }
  ]
}